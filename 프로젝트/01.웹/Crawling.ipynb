{
 "cells": [
  {
   "attachments": {},
   "cell_type": "markdown",
   "metadata": {},
   "source": [
    "# 건강 뉴스 크롤링"
   ]
  },
  {
   "cell_type": "code",
   "execution_count": 66,
   "metadata": {},
   "outputs": [],
   "source": [
    "import requests\n",
    "from bs4 import BeautifulSoup\n",
    "from urllib.parse import quote\n",
    "import pandas as pd"
   ]
  },
  {
   "cell_type": "code",
   "execution_count": 67,
   "metadata": {},
   "outputs": [
    {
     "name": "stdout",
     "output_type": "stream",
     "text": [
      "re_code 200\n"
     ]
    }
   ],
   "source": [
    "url = \"https://kormedi.com/healthnews/\"\n",
    "header = {'User-Agent': 'Mozilla/5.0 (Windows NT 10.0; Win64; x64) AppleWebKit/537.36 (KHTML, like Gecko) Chrome/112.0.0.0 Safari/537.36'}\n",
    "result = requests.get(url, headers=header)\n",
    "print('re_code', result.status_code)\n",
    "soup = BeautifulSoup(result.text, 'html.parser')"
   ]
  },
  {
   "cell_type": "code",
   "execution_count": 68,
   "metadata": {},
   "outputs": [
    {
     "data": {
      "text/plain": [
       "10"
      ]
     },
     "execution_count": 68,
     "metadata": {},
     "output_type": "execute_result"
    }
   ],
   "source": [
    "h2s =soup.select('article')[:10]\n",
    "len(h2s)"
   ]
  },
  {
   "cell_type": "code",
   "execution_count": 69,
   "metadata": {},
   "outputs": [],
   "source": [
    "h2 =h2s[0]"
   ]
  },
  {
   "cell_type": "code",
   "execution_count": 70,
   "metadata": {},
   "outputs": [
    {
     "data": {
      "text/plain": [
       "'햇볕에 피부 탔을 때, 빠르게 회복하려면?'"
      ]
     },
     "execution_count": 70,
     "metadata": {},
     "output_type": "execute_result"
    }
   ],
   "source": [
    "title= h2.select_one('.title').get_text().strip()\n",
    "title"
   ]
  },
  {
   "cell_type": "code",
   "execution_count": 71,
   "metadata": {},
   "outputs": [
    {
     "data": {
      "text/plain": [
       "'https://cdn.kormedi.com/wp-content/uploads/2023/06/gettyimages-497992101.jpg'"
      ]
     },
     "execution_count": 71,
     "metadata": {},
     "output_type": "execute_result"
    }
   ],
   "source": [
    "image =h2.select_one('a')['data-bg']\n",
    "image"
   ]
  },
  {
   "cell_type": "code",
   "execution_count": 72,
   "metadata": {},
   "outputs": [
    {
     "data": {
      "text/plain": [
       "'https://kormedi.com/1593943/%ed%96%87%eb%b3%95%ec%97%90-%ed%94%bc%eb%b6%80-%ed%83%94%ec%9d%84-%eb%95%8c-%eb%b9%a0%eb%a5%b4%ea%b2%8c-%ed%9a%8c%eb%b3%b5%ed%95%98%eb%a0%a4%eb%a9%b4/'"
      ]
     },
     "execution_count": 72,
     "metadata": {},
     "output_type": "execute_result"
    }
   ],
   "source": [
    "link =h2.select_one('a')['href']\n",
    "link"
   ]
  },
  {
   "cell_type": "code",
   "execution_count": 75,
   "metadata": {},
   "outputs": [
    {
     "data": {
      "text/html": [
       "<div>\n",
       "<style scoped>\n",
       "    .dataframe tbody tr th:only-of-type {\n",
       "        vertical-align: middle;\n",
       "    }\n",
       "\n",
       "    .dataframe tbody tr th {\n",
       "        vertical-align: top;\n",
       "    }\n",
       "\n",
       "    .dataframe thead th {\n",
       "        text-align: right;\n",
       "    }\n",
       "</style>\n",
       "<table border=\"1\" class=\"dataframe\">\n",
       "  <thead>\n",
       "    <tr style=\"text-align: right;\">\n",
       "      <th></th>\n",
       "      <th>제목</th>\n",
       "      <th>이미지</th>\n",
       "      <th>링크</th>\n",
       "    </tr>\n",
       "  </thead>\n",
       "  <tbody>\n",
       "    <tr>\n",
       "      <th>0</th>\n",
       "      <td>햇볕에 피부 탔을 때, 빠르게 회복하려면?</td>\n",
       "      <td>https://cdn.kormedi.com/wp-content/uploads/202...</td>\n",
       "      <td>https://kormedi.com/1593943/%ed%96%87%eb%b3%95...</td>\n",
       "    </tr>\n",
       "    <tr>\n",
       "      <th>1</th>\n",
       "      <td>갱년기 여성이 특히 조심해야 할 식품 5가지</td>\n",
       "      <td>https://cdn.kormedi.com/wp-content/uploads/202...</td>\n",
       "      <td>https://kormedi.com/1593932/%ea%b0%b1%eb%85%84...</td>\n",
       "    </tr>\n",
       "    <tr>\n",
       "      <th>2</th>\n",
       "      <td>5년 새 30% 증가한 유방암, 자가진단하려면?</td>\n",
       "      <td>https://cdn.kormedi.com/wp-content/uploads/202...</td>\n",
       "      <td>https://kormedi.com/1593923/5%eb%85%84-%ec%83%...</td>\n",
       "    </tr>\n",
       "    <tr>\n",
       "      <th>3</th>\n",
       "      <td>미역만? 갑상선 건강을 위한 베스트 식품들</td>\n",
       "      <td>https://cdn.kormedi.com/wp-content/uploads/202...</td>\n",
       "      <td>https://kormedi.com/1593750/%eb%af%b8%ec%97%ad...</td>\n",
       "    </tr>\n",
       "    <tr>\n",
       "      <th>4</th>\n",
       "      <td>내게 맞는 피트니스는?…성격 별 운동법 5</td>\n",
       "      <td>https://cdn.kormedi.com/wp-content/uploads/202...</td>\n",
       "      <td>https://kormedi.com/1593831/%eb%82%b4%ea%b2%8c...</td>\n",
       "    </tr>\n",
       "    <tr>\n",
       "      <th>...</th>\n",
       "      <td>...</td>\n",
       "      <td>...</td>\n",
       "      <td>...</td>\n",
       "    </tr>\n",
       "    <tr>\n",
       "      <th>295</th>\n",
       "      <td>잠 적게 자도? 의외의 탈수 위험 4가지</td>\n",
       "      <td>https://cdn.kormedi.com/wp-content/uploads/202...</td>\n",
       "      <td>https://kormedi.com/1591045/%ec%9e%a0-%ec%a0%8...</td>\n",
       "    </tr>\n",
       "    <tr>\n",
       "      <th>296</th>\n",
       "      <td>잠자리에서 보답하는 ‘착한’ 운동 7가지</td>\n",
       "      <td>https://cdn.kormedi.com/wp-content/uploads/202...</td>\n",
       "      <td>https://kormedi.com/1591164/%ec%9e%a0%ec%9e%90...</td>\n",
       "    </tr>\n",
       "    <tr>\n",
       "      <th>297</th>\n",
       "      <td>근육량 적은 비만 환자, 걸려들기 쉬운 악순환은?</td>\n",
       "      <td>https://cdn.kormedi.com/wp-content/uploads/202...</td>\n",
       "      <td>https://kormedi.com/1591356/%ea%b7%bc%ec%9c%a1...</td>\n",
       "    </tr>\n",
       "    <tr>\n",
       "      <th>298</th>\n",
       "      <td>“완경 후 열감 심하면 대사증후군 위험 ↑”</td>\n",
       "      <td>https://cdn.kormedi.com/wp-content/uploads/202...</td>\n",
       "      <td>https://kormedi.com/1590970/%ec%99%84%ea%b2%bd...</td>\n",
       "    </tr>\n",
       "    <tr>\n",
       "      <th>299</th>\n",
       "      <td>감각까지 전달하는 ‘전자 피부’ 첫걸음</td>\n",
       "      <td>https://cdn.kormedi.com/wp-content/uploads/202...</td>\n",
       "      <td>https://kormedi.com/1591332/%ea%b0%90%ea%b0%81...</td>\n",
       "    </tr>\n",
       "  </tbody>\n",
       "</table>\n",
       "<p>300 rows × 3 columns</p>\n",
       "</div>"
      ],
      "text/plain": [
       "                              제목   \n",
       "0        햇볕에 피부 탔을 때, 빠르게 회복하려면?  \\\n",
       "1       갱년기 여성이 특히 조심해야 할 식품 5가지   \n",
       "2     5년 새 30% 증가한 유방암, 자가진단하려면?   \n",
       "3        미역만? 갑상선 건강을 위한 베스트 식품들   \n",
       "4        내게 맞는 피트니스는?…성격 별 운동법 5   \n",
       "..                           ...   \n",
       "295       잠 적게 자도? 의외의 탈수 위험 4가지   \n",
       "296       잠자리에서 보답하는 ‘착한’ 운동 7가지   \n",
       "297  근육량 적은 비만 환자, 걸려들기 쉬운 악순환은?   \n",
       "298     “완경 후 열감 심하면 대사증후군 위험 ↑”   \n",
       "299        감각까지 전달하는 ‘전자 피부’ 첫걸음   \n",
       "\n",
       "                                                   이미지   \n",
       "0    https://cdn.kormedi.com/wp-content/uploads/202...  \\\n",
       "1    https://cdn.kormedi.com/wp-content/uploads/202...   \n",
       "2    https://cdn.kormedi.com/wp-content/uploads/202...   \n",
       "3    https://cdn.kormedi.com/wp-content/uploads/202...   \n",
       "4    https://cdn.kormedi.com/wp-content/uploads/202...   \n",
       "..                                                 ...   \n",
       "295  https://cdn.kormedi.com/wp-content/uploads/202...   \n",
       "296  https://cdn.kormedi.com/wp-content/uploads/202...   \n",
       "297  https://cdn.kormedi.com/wp-content/uploads/202...   \n",
       "298  https://cdn.kormedi.com/wp-content/uploads/202...   \n",
       "299  https://cdn.kormedi.com/wp-content/uploads/202...   \n",
       "\n",
       "                                                    링크  \n",
       "0    https://kormedi.com/1593943/%ed%96%87%eb%b3%95...  \n",
       "1    https://kormedi.com/1593932/%ea%b0%b1%eb%85%84...  \n",
       "2    https://kormedi.com/1593923/5%eb%85%84-%ec%83%...  \n",
       "3    https://kormedi.com/1593750/%eb%af%b8%ec%97%ad...  \n",
       "4    https://kormedi.com/1593831/%eb%82%b4%ea%b2%8c...  \n",
       "..                                                 ...  \n",
       "295  https://kormedi.com/1591045/%ec%9e%a0-%ec%a0%8...  \n",
       "296  https://kormedi.com/1591164/%ec%9e%a0%ec%9e%90...  \n",
       "297  https://kormedi.com/1591356/%ea%b7%bc%ec%9c%a1...  \n",
       "298  https://kormedi.com/1590970/%ec%99%84%ea%b2%bd...  \n",
       "299  https://kormedi.com/1591332/%ea%b0%90%ea%b0%81...  \n",
       "\n",
       "[300 rows x 3 columns]"
      ]
     },
     "execution_count": 75,
     "metadata": {},
     "output_type": "execute_result"
    }
   ],
   "source": [
    "My_list =[]\n",
    "for page in range(10):\n",
    "    url=f'https://kormedi.com/healthnews/page/{page}/'\n",
    "    result = requests.get(url, headers=header)\n",
    "    soup = BeautifulSoup(result.text, 'html.parser')\n",
    "    h2s =soup.select('article')\n",
    "   \n",
    "    for h2 in h2s:\n",
    "        title= h2.select_one('.title').get_text().strip()\n",
    "        image =h2.select_one('a')['data-bg']\n",
    "        link =h2.select_one('a')['href']\n",
    "        My_list.append({'제목':title,'이미지':image,'링크':link})\n",
    "df =pd.DataFrame(My_list)\n",
    "df\n",
    "\n"
   ]
  },
  {
   "cell_type": "code",
   "execution_count": null,
   "metadata": {},
   "outputs": [],
   "source": []
  }
 ],
 "metadata": {
  "kernelspec": {
   "display_name": "base",
   "language": "python",
   "name": "python3"
  },
  "language_info": {
   "codemirror_mode": {
    "name": "ipython",
    "version": 3
   },
   "file_extension": ".py",
   "mimetype": "text/x-python",
   "name": "python",
   "nbconvert_exporter": "python",
   "pygments_lexer": "ipython3",
   "version": "3.10.10"
  },
  "orig_nbformat": 4
 },
 "nbformat": 4,
 "nbformat_minor": 2
}

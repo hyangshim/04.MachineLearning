{
 "cells": [
  {
   "attachments": {},
   "cell_type": "markdown",
   "metadata": {},
   "source": [
    "#### 18. 변수_이상지질혈증"
   ]
  },
  {
   "cell_type": "code",
   "execution_count": 1,
   "metadata": {},
   "outputs": [],
   "source": [
    "import pandas as pd\n",
    "import numpy as np\n",
    "import matplotlib.pyplot as plt\n",
    "plt.rcParams['font.family'] = 'Malgun Gothic'"
   ]
  },
  {
   "cell_type": "code",
   "execution_count": 2,
   "metadata": {},
   "outputs": [
    {
     "name": "stderr",
     "output_type": "stream",
     "text": [
      "C:\\Users\\YONSAI\\AppData\\Local\\Temp\\ipykernel_1280\\4152745641.py:5: DtypeWarning: Columns (29,30,31,33,35) have mixed types. Specify dtype option on import or set low_memory=False.\n",
      "  df_2019 =pd.read_csv('data/건강검진정보_2019(수정).csv',encoding='euc-kr')\n"
     ]
    }
   ],
   "source": [
    "df_2004 =pd.read_csv('data/건강검진정보_2004.CSV',encoding='euc-kr')\n",
    "df_2009 =pd.read_csv('data/건강검진정보_2009(수정).csv',encoding='euc-kr')\n",
    "df_2014 =pd.read_csv('data/건강검진정보_2014.CSV',encoding='euc-kr')\n",
    "df_2018=pd.read_csv('data/건강검진정보_2018.csv',encoding='euc-kr')\n",
    "df_2019 =pd.read_csv('data/건강검진정보_2019(수정).csv',encoding='euc-kr')\n",
    "df_2019=df_2019.iloc[:1000000,:]"
   ]
  },
  {
   "cell_type": "code",
   "execution_count": 3,
   "metadata": {},
   "outputs": [],
   "source": [
    "# bmi 비만\n",
    "bmi_2019 =round(df_2019['체중(5Kg 단위)'] /(df_2019['신장(5Cm단위)']/100) **2,1)\n",
    "df_2019['BMI'] = bmi_2019\n",
    "df_2019_1=df_2019.loc[(df_2019['BMI']>=25)]"
   ]
  },
  {
   "cell_type": "code",
   "execution_count": 11,
   "metadata": {},
   "outputs": [],
   "source": [
    "# bmi 정상\n",
    "df_2019_2=df_2019.loc[(df_2019['BMI']<25)]"
   ]
  },
  {
   "cell_type": "code",
   "execution_count": 5,
   "metadata": {},
   "outputs": [
    {
     "data": {
      "text/plain": [
       "0"
      ]
     },
     "execution_count": 5,
     "metadata": {},
     "output_type": "execute_result"
    }
   ],
   "source": [
    "# 흡연\n",
    "df_2018 = df_2018[['연령대코드(5세단위)', '성별코드', '흡연상태']]\n",
    "df_2018.dropna(inplace=True)\n",
    "df_2018.흡연상태.isna().sum()"
   ]
  },
  {
   "cell_type": "code",
   "execution_count": 7,
   "metadata": {},
   "outputs": [
    {
     "data": {
      "text/plain": [
       "연령대코드(5세단위)  성별코드\n",
       "5            1        4213\n",
       "             2        1166\n",
       "6            1       14931\n",
       "             2        1878\n",
       "7            1       20056\n",
       "Name: 흡연상태, dtype: int64"
      ]
     },
     "execution_count": 7,
     "metadata": {},
     "output_type": "execute_result"
    }
   ],
   "source": [
    "# 흡연 : 3(현재도 피우고 있다)\n",
    "df_2018_smk = df_2018[df_2018.흡연상태 == 3].groupby(['연령대코드(5세단위)', '성별코드'])['흡연상태'].count()\n",
    "df_2018_smk.head()"
   ]
  },
  {
   "cell_type": "code",
   "execution_count": 9,
   "metadata": {},
   "outputs": [
    {
     "data": {
      "text/plain": [
       "연령대코드(5세단위)  성별코드\n",
       "5            1        5405\n",
       "             2       10565\n",
       "6            1       20585\n",
       "             2       27992\n",
       "7            1       29662\n",
       "Name: 흡연상태, dtype: int64"
      ]
     },
     "execution_count": 9,
     "metadata": {},
     "output_type": "execute_result"
    }
   ],
   "source": [
    "# 비흡연 : 1,2(피우지 않는다)\n",
    "df_2018_not_smk = df_2018[df_2018.흡연상태 != 3].groupby(['연령대코드(5세단위)', '성별코드'])['흡연상태'].count()\n",
    "df_2018_not_smk.head()"
   ]
  },
  {
   "cell_type": "code",
   "execution_count": null,
   "metadata": {},
   "outputs": [],
   "source": []
  }
 ],
 "metadata": {
  "kernelspec": {
   "display_name": "base",
   "language": "python",
   "name": "python3"
  },
  "language_info": {
   "codemirror_mode": {
    "name": "ipython",
    "version": 3
   },
   "file_extension": ".py",
   "mimetype": "text/x-python",
   "name": "python",
   "nbconvert_exporter": "python",
   "pygments_lexer": "ipython3",
   "version": "3.10.10"
  },
  "orig_nbformat": 4
 },
 "nbformat": 4,
 "nbformat_minor": 2
}

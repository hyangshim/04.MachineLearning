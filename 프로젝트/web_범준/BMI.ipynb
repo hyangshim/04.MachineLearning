{
 "cells": [
  {
   "cell_type": "code",
   "execution_count": 5,
   "metadata": {},
   "outputs": [],
   "source": [
    "import numpy as np \n",
    "import pandas as pd"
   ]
  },
  {
   "cell_type": "code",
   "execution_count": 2,
   "metadata": {},
   "outputs": [
    {
     "data": {
      "text/html": [
       "<div>\n",
       "<style scoped>\n",
       "    .dataframe tbody tr th:only-of-type {\n",
       "        vertical-align: middle;\n",
       "    }\n",
       "\n",
       "    .dataframe tbody tr th {\n",
       "        vertical-align: top;\n",
       "    }\n",
       "\n",
       "    .dataframe thead th {\n",
       "        text-align: right;\n",
       "    }\n",
       "</style>\n",
       "<table border=\"1\" class=\"dataframe\">\n",
       "  <thead>\n",
       "    <tr style=\"text-align: right;\">\n",
       "      <th></th>\n",
       "      <th>기준년도</th>\n",
       "      <th>가입자일련번호</th>\n",
       "      <th>성별코드</th>\n",
       "      <th>연령대코드(5세단위)</th>\n",
       "      <th>시도코드</th>\n",
       "      <th>신장(5Cm단위)</th>\n",
       "      <th>체중(5Kg단위)</th>\n",
       "      <th>허리둘레</th>\n",
       "      <th>시력(좌)</th>\n",
       "      <th>시력(우)</th>\n",
       "      <th>...</th>\n",
       "      <th>감마지티피</th>\n",
       "      <th>흡연상태</th>\n",
       "      <th>음주여부</th>\n",
       "      <th>구강검진수검여부</th>\n",
       "      <th>치아우식증유무</th>\n",
       "      <th>결손치유무</th>\n",
       "      <th>치아마모증유무</th>\n",
       "      <th>제3대구치(사랑니)이상</th>\n",
       "      <th>치석</th>\n",
       "      <th>데이터공개일자</th>\n",
       "    </tr>\n",
       "  </thead>\n",
       "  <tbody>\n",
       "    <tr>\n",
       "      <th>0</th>\n",
       "      <td>2018</td>\n",
       "      <td>1</td>\n",
       "      <td>2</td>\n",
       "      <td>7</td>\n",
       "      <td>48</td>\n",
       "      <td>160</td>\n",
       "      <td>60</td>\n",
       "      <td>79.5</td>\n",
       "      <td>1.5</td>\n",
       "      <td>1.5</td>\n",
       "      <td>...</td>\n",
       "      <td>12.0</td>\n",
       "      <td>1.0</td>\n",
       "      <td>NaN</td>\n",
       "      <td>N</td>\n",
       "      <td>NaN</td>\n",
       "      <td>NaN</td>\n",
       "      <td>NaN</td>\n",
       "      <td>NaN</td>\n",
       "      <td>NaN</td>\n",
       "      <td>2019-12-19</td>\n",
       "    </tr>\n",
       "    <tr>\n",
       "      <th>1</th>\n",
       "      <td>2018</td>\n",
       "      <td>2</td>\n",
       "      <td>1</td>\n",
       "      <td>6</td>\n",
       "      <td>26</td>\n",
       "      <td>170</td>\n",
       "      <td>55</td>\n",
       "      <td>69.3</td>\n",
       "      <td>1.2</td>\n",
       "      <td>0.8</td>\n",
       "      <td>...</td>\n",
       "      <td>47.0</td>\n",
       "      <td>1.0</td>\n",
       "      <td>Y</td>\n",
       "      <td>Y</td>\n",
       "      <td>0.0</td>\n",
       "      <td>NaN</td>\n",
       "      <td>NaN</td>\n",
       "      <td>NaN</td>\n",
       "      <td>N</td>\n",
       "      <td>2019-12-19</td>\n",
       "    </tr>\n",
       "  </tbody>\n",
       "</table>\n",
       "<p>2 rows × 34 columns</p>\n",
       "</div>"
      ],
      "text/plain": [
       "   기준년도  가입자일련번호  성별코드  연령대코드(5세단위)  시도코드  신장(5Cm단위)  체중(5Kg단위)  허리둘레  시력(좌)  \\\n",
       "0  2018        1     2            7    48        160         60  79.5    1.5   \n",
       "1  2018        2     1            6    26        170         55  69.3    1.2   \n",
       "\n",
       "   시력(우)  ...  감마지티피  흡연상태  음주여부  구강검진수검여부  치아우식증유무  결손치유무  치아마모증유무  \\\n",
       "0    1.5  ...   12.0   1.0   NaN         N      NaN    NaN      NaN   \n",
       "1    0.8  ...   47.0   1.0     Y         Y      0.0    NaN      NaN   \n",
       "\n",
       "   제3대구치(사랑니)이상   치석     데이터공개일자  \n",
       "0           NaN  NaN  2019-12-19  \n",
       "1           NaN    N  2019-12-19  \n",
       "\n",
       "[2 rows x 34 columns]"
      ]
     },
     "execution_count": 2,
     "metadata": {},
     "output_type": "execute_result"
    }
   ],
   "source": [
    "df_2018 = pd.read_csv('../01.웹/data_건강/건강검진정보_2018.csv', encoding='euc-kr')\n",
    "df_2018.head(2)"
   ]
  },
  {
   "cell_type": "code",
   "execution_count": 3,
   "metadata": {},
   "outputs": [
    {
     "data": {
      "text/html": [
       "<div>\n",
       "<style scoped>\n",
       "    .dataframe tbody tr th:only-of-type {\n",
       "        vertical-align: middle;\n",
       "    }\n",
       "\n",
       "    .dataframe tbody tr th {\n",
       "        vertical-align: top;\n",
       "    }\n",
       "\n",
       "    .dataframe thead th {\n",
       "        text-align: right;\n",
       "    }\n",
       "</style>\n",
       "<table border=\"1\" class=\"dataframe\">\n",
       "  <thead>\n",
       "    <tr style=\"text-align: right;\">\n",
       "      <th></th>\n",
       "      <th>기준년도</th>\n",
       "      <th>가입자일련번호</th>\n",
       "      <th>성별코드</th>\n",
       "      <th>연령대코드(5세단위)</th>\n",
       "      <th>시도코드</th>\n",
       "      <th>신장(5Cm단위)</th>\n",
       "      <th>체중(5Kg단위)</th>\n",
       "      <th>허리둘레</th>\n",
       "      <th>시력(좌)</th>\n",
       "      <th>시력(우)</th>\n",
       "      <th>...</th>\n",
       "      <th>흡연상태</th>\n",
       "      <th>음주여부</th>\n",
       "      <th>구강검진수검여부</th>\n",
       "      <th>치아우식증유무</th>\n",
       "      <th>결손치유무</th>\n",
       "      <th>치아마모증유무</th>\n",
       "      <th>제3대구치(사랑니)이상</th>\n",
       "      <th>치석</th>\n",
       "      <th>데이터공개일자</th>\n",
       "      <th>BMI</th>\n",
       "    </tr>\n",
       "  </thead>\n",
       "  <tbody>\n",
       "    <tr>\n",
       "      <th>0</th>\n",
       "      <td>2018</td>\n",
       "      <td>1</td>\n",
       "      <td>2</td>\n",
       "      <td>7</td>\n",
       "      <td>48</td>\n",
       "      <td>160</td>\n",
       "      <td>60</td>\n",
       "      <td>79.5</td>\n",
       "      <td>1.5</td>\n",
       "      <td>1.5</td>\n",
       "      <td>...</td>\n",
       "      <td>1.0</td>\n",
       "      <td>NaN</td>\n",
       "      <td>N</td>\n",
       "      <td>NaN</td>\n",
       "      <td>NaN</td>\n",
       "      <td>NaN</td>\n",
       "      <td>NaN</td>\n",
       "      <td>NaN</td>\n",
       "      <td>2019-12-19</td>\n",
       "      <td>23.4</td>\n",
       "    </tr>\n",
       "    <tr>\n",
       "      <th>1</th>\n",
       "      <td>2018</td>\n",
       "      <td>2</td>\n",
       "      <td>1</td>\n",
       "      <td>6</td>\n",
       "      <td>26</td>\n",
       "      <td>170</td>\n",
       "      <td>55</td>\n",
       "      <td>69.3</td>\n",
       "      <td>1.2</td>\n",
       "      <td>0.8</td>\n",
       "      <td>...</td>\n",
       "      <td>1.0</td>\n",
       "      <td>Y</td>\n",
       "      <td>Y</td>\n",
       "      <td>0.0</td>\n",
       "      <td>NaN</td>\n",
       "      <td>NaN</td>\n",
       "      <td>NaN</td>\n",
       "      <td>N</td>\n",
       "      <td>2019-12-19</td>\n",
       "      <td>19.0</td>\n",
       "    </tr>\n",
       "    <tr>\n",
       "      <th>2</th>\n",
       "      <td>2018</td>\n",
       "      <td>3</td>\n",
       "      <td>1</td>\n",
       "      <td>12</td>\n",
       "      <td>28</td>\n",
       "      <td>165</td>\n",
       "      <td>70</td>\n",
       "      <td>85.0</td>\n",
       "      <td>0.8</td>\n",
       "      <td>0.8</td>\n",
       "      <td>...</td>\n",
       "      <td>2.0</td>\n",
       "      <td>Y</td>\n",
       "      <td>Y</td>\n",
       "      <td>0.0</td>\n",
       "      <td>NaN</td>\n",
       "      <td>NaN</td>\n",
       "      <td>NaN</td>\n",
       "      <td>N</td>\n",
       "      <td>2019-12-19</td>\n",
       "      <td>25.7</td>\n",
       "    </tr>\n",
       "  </tbody>\n",
       "</table>\n",
       "<p>3 rows × 35 columns</p>\n",
       "</div>"
      ],
      "text/plain": [
       "   기준년도  가입자일련번호  성별코드  연령대코드(5세단위)  시도코드  신장(5Cm단위)  체중(5Kg단위)  허리둘레  시력(좌)  \\\n",
       "0  2018        1     2            7    48        160         60  79.5    1.5   \n",
       "1  2018        2     1            6    26        170         55  69.3    1.2   \n",
       "2  2018        3     1           12    28        165         70  85.0    0.8   \n",
       "\n",
       "   시력(우)  ...  흡연상태  음주여부  구강검진수검여부  치아우식증유무  결손치유무  치아마모증유무  제3대구치(사랑니)이상  \\\n",
       "0    1.5  ...   1.0   NaN         N      NaN    NaN      NaN           NaN   \n",
       "1    0.8  ...   1.0     Y         Y      0.0    NaN      NaN           NaN   \n",
       "2    0.8  ...   2.0     Y         Y      0.0    NaN      NaN           NaN   \n",
       "\n",
       "    치석     데이터공개일자   BMI  \n",
       "0  NaN  2019-12-19  23.4  \n",
       "1    N  2019-12-19  19.0  \n",
       "2    N  2019-12-19  25.7  \n",
       "\n",
       "[3 rows x 35 columns]"
      ]
     },
     "execution_count": 3,
     "metadata": {},
     "output_type": "execute_result"
    }
   ],
   "source": [
    "bmi_2018 =round(df_2018['체중(5Kg단위)'] /(df_2018['신장(5Cm단위)']/100) **2,1)\n",
    "df_2018['BMI'] = bmi_2018\n",
    "df_2018.head(3)"
   ]
  },
  {
   "cell_type": "code",
   "execution_count": 4,
   "metadata": {},
   "outputs": [
    {
     "data": {
      "text/plain": [
       "(535600, 464400)"
      ]
     },
     "execution_count": 4,
     "metadata": {},
     "output_type": "execute_result"
    }
   ],
   "source": [
    "male = df_2018['BMI'][df_2018.성별코드==1].value_counts().sum()\n",
    "female = df_2018['BMI'][df_2018.성별코드 == 2].value_counts().sum()\n",
    "male,female"
   ]
  },
  {
   "cell_type": "code",
   "execution_count": 29,
   "metadata": {},
   "outputs": [
    {
     "ename": "TypeError",
     "evalue": "unsupported type: <class 'str'>",
     "output_type": "error",
     "traceback": [
      "\u001b[1;31m---------------------------------------------------------------------------\u001b[0m",
      "\u001b[1;31mTypeError\u001b[0m                                 Traceback (most recent call last)",
      "Cell \u001b[1;32mIn[29], line 1\u001b[0m\n\u001b[1;32m----> 1\u001b[0m df_list \u001b[39m=\u001b[39m df_2018[\u001b[39m'\u001b[39;49m\u001b[39mBMI\u001b[39;49m\u001b[39m'\u001b[39;49m]\u001b[39m.\u001b[39;49mto_dict(\u001b[39m'\u001b[39;49m\u001b[39mrecords\u001b[39;49m\u001b[39m'\u001b[39;49m)\n\u001b[0;32m      2\u001b[0m df_list\n",
      "File \u001b[1;32mc:\\Users\\Admin\\anaconda3\\lib\\site-packages\\pandas\\core\\series.py:1894\u001b[0m, in \u001b[0;36mSeries.to_dict\u001b[1;34m(self, into)\u001b[0m\n\u001b[0;32m   1865\u001b[0m \u001b[39m\"\"\"\u001b[39;00m\n\u001b[0;32m   1866\u001b[0m \u001b[39mConvert Series to {label -> value} dict or dict-like object.\u001b[39;00m\n\u001b[0;32m   1867\u001b[0m \n\u001b[1;32m   (...)\u001b[0m\n\u001b[0;32m   1891\u001b[0m \u001b[39mdefaultdict(<class 'list'>, {0: 1, 1: 2, 2: 3, 3: 4})\u001b[39;00m\n\u001b[0;32m   1892\u001b[0m \u001b[39m\"\"\"\u001b[39;00m\n\u001b[0;32m   1893\u001b[0m \u001b[39m# GH16122\u001b[39;00m\n\u001b[1;32m-> 1894\u001b[0m into_c \u001b[39m=\u001b[39m com\u001b[39m.\u001b[39;49mstandardize_mapping(into)\n\u001b[0;32m   1895\u001b[0m \u001b[39mreturn\u001b[39;00m into_c((k, maybe_box_native(v)) \u001b[39mfor\u001b[39;00m k, v \u001b[39min\u001b[39;00m \u001b[39mself\u001b[39m\u001b[39m.\u001b[39mitems())\n",
      "File \u001b[1;32mc:\\Users\\Admin\\anaconda3\\lib\\site-packages\\pandas\\core\\common.py:405\u001b[0m, in \u001b[0;36mstandardize_mapping\u001b[1;34m(into)\u001b[0m\n\u001b[0;32m    403\u001b[0m     into \u001b[39m=\u001b[39m \u001b[39mtype\u001b[39m(into)\n\u001b[0;32m    404\u001b[0m \u001b[39mif\u001b[39;00m \u001b[39mnot\u001b[39;00m \u001b[39missubclass\u001b[39m(into, abc\u001b[39m.\u001b[39mMapping):\n\u001b[1;32m--> 405\u001b[0m     \u001b[39mraise\u001b[39;00m \u001b[39mTypeError\u001b[39;00m(\u001b[39mf\u001b[39m\u001b[39m\"\u001b[39m\u001b[39munsupported type: \u001b[39m\u001b[39m{\u001b[39;00minto\u001b[39m}\u001b[39;00m\u001b[39m\"\u001b[39m)\n\u001b[0;32m    406\u001b[0m \u001b[39melif\u001b[39;00m into \u001b[39m==\u001b[39m defaultdict:\n\u001b[0;32m    407\u001b[0m     \u001b[39mraise\u001b[39;00m \u001b[39mTypeError\u001b[39;00m(\u001b[39m\"\u001b[39m\u001b[39mto_dict() only accepts initialized defaultdicts\u001b[39m\u001b[39m\"\u001b[39m)\n",
      "\u001b[1;31mTypeError\u001b[0m: unsupported type: <class 'str'>"
     ]
    }
   ],
   "source": [
    "df_list = df_2018['BMI'].to_dict('records')\n",
    "df_list\n"
   ]
  },
  {
   "cell_type": "code",
   "execution_count": 27,
   "metadata": {},
   "outputs": [
    {
     "data": {
      "text/plain": [
       "count           955185\n",
       "unique               4\n",
       "top       (18.5, 25.0]\n",
       "freq            607229\n",
       "Name: BMI, dtype: object"
      ]
     },
     "execution_count": 27,
     "metadata": {},
     "output_type": "execute_result"
    }
   ],
   "source": [
    "ranges=[18.5,25,30,40,50]\n",
    "bmi_bins=pd.cut(df_2018['BMI'],ranges).describe()\n",
    "bmi_bins"
   ]
  },
  {
   "cell_type": "code",
   "execution_count": 16,
   "metadata": {},
   "outputs": [
    {
     "data": {
      "text/plain": [
       "13.3"
      ]
     },
     "execution_count": 16,
     "metadata": {},
     "output_type": "execute_result"
    }
   ],
   "source": [
    "df_2018['BMI'].min()\n"
   ]
  },
  {
   "cell_type": "code",
   "execution_count": 6,
   "metadata": {},
   "outputs": [],
   "source": [
    "def bmi_cal(x, y):       # x이상 y미만\n",
    "    if y == 18.5:\n",
    "        return df_2018[(df_2018['BMI'] < y)].groupby(['성별코드','연령대코드(5세단위)'])['BMI'].count()\n",
    "    elif x != 30 and y != 18.5:\n",
    "        return df_2018[(df_2018['BMI'] < y) & (df_2018['BMI'] >= x)].groupby(['성별코드','연령대코드(5세단위)'])['BMI'].count()\n",
    "    elif x == 30:\n",
    "        return df_2018[(df_2018['BMI'] >= x)].groupby(['성별코드','연령대코드(5세단위)'])['BMI'].count()\n",
    "\n",
    "temp = pd.DataFrame()\n",
    "for x, y in zip(np.arange(13, 30, 5.5), np.arange(18.5, 45 ,5.5)):\n",
    "    temp = pd.concat([temp, bmi_cal(x, y).to_frame()], axis=1)\n",
    "temp.columns = ['18.5','18.5-25.0','25.0-30.0','30']"
   ]
  },
  {
   "cell_type": "code",
   "execution_count": 7,
   "metadata": {},
   "outputs": [
    {
     "data": {
      "text/html": [
       "<div>\n",
       "<style scoped>\n",
       "    .dataframe tbody tr th:only-of-type {\n",
       "        vertical-align: middle;\n",
       "    }\n",
       "\n",
       "    .dataframe tbody tr th {\n",
       "        vertical-align: top;\n",
       "    }\n",
       "\n",
       "    .dataframe thead tr th {\n",
       "        text-align: left;\n",
       "    }\n",
       "</style>\n",
       "<table border=\"1\" class=\"dataframe\">\n",
       "  <thead>\n",
       "    <tr>\n",
       "      <th>성별코드</th>\n",
       "      <th colspan=\"10\" halign=\"left\">1</th>\n",
       "      <th>...</th>\n",
       "      <th colspan=\"10\" halign=\"left\">2</th>\n",
       "    </tr>\n",
       "    <tr>\n",
       "      <th>연령대코드(5세단위)</th>\n",
       "      <th>5</th>\n",
       "      <th>6</th>\n",
       "      <th>7</th>\n",
       "      <th>8</th>\n",
       "      <th>9</th>\n",
       "      <th>10</th>\n",
       "      <th>11</th>\n",
       "      <th>12</th>\n",
       "      <th>13</th>\n",
       "      <th>14</th>\n",
       "      <th>...</th>\n",
       "      <th>9</th>\n",
       "      <th>10</th>\n",
       "      <th>11</th>\n",
       "      <th>12</th>\n",
       "      <th>13</th>\n",
       "      <th>14</th>\n",
       "      <th>15</th>\n",
       "      <th>16</th>\n",
       "      <th>17</th>\n",
       "      <th>18</th>\n",
       "    </tr>\n",
       "  </thead>\n",
       "  <tbody>\n",
       "    <tr>\n",
       "      <th>18.5</th>\n",
       "      <td>582.0</td>\n",
       "      <td>0.0</td>\n",
       "      <td>835.0</td>\n",
       "      <td>944.0</td>\n",
       "      <td>1093.0</td>\n",
       "      <td>1060.0</td>\n",
       "      <td>1265.0</td>\n",
       "      <td>1267.0</td>\n",
       "      <td>1252.0</td>\n",
       "      <td>824.0</td>\n",
       "      <td>...</td>\n",
       "      <td>4971.0</td>\n",
       "      <td>3042.0</td>\n",
       "      <td>2594.0</td>\n",
       "      <td>1805.0</td>\n",
       "      <td>1404.0</td>\n",
       "      <td>620.0</td>\n",
       "      <td>681.0</td>\n",
       "      <td>515.0</td>\n",
       "      <td>549.0</td>\n",
       "      <td>324.0</td>\n",
       "    </tr>\n",
       "    <tr>\n",
       "      <th>18.5-25.0</th>\n",
       "      <td>4864.0</td>\n",
       "      <td>15350.0</td>\n",
       "      <td>18136.0</td>\n",
       "      <td>20460.0</td>\n",
       "      <td>23850.0</td>\n",
       "      <td>23255.0</td>\n",
       "      <td>26386.0</td>\n",
       "      <td>24366.0</td>\n",
       "      <td>23786.0</td>\n",
       "      <td>13856.0</td>\n",
       "      <td>...</td>\n",
       "      <td>34585.0</td>\n",
       "      <td>32597.0</td>\n",
       "      <td>38219.0</td>\n",
       "      <td>30773.0</td>\n",
       "      <td>27829.0</td>\n",
       "      <td>13670.0</td>\n",
       "      <td>12542.0</td>\n",
       "      <td>7374.0</td>\n",
       "      <td>5057.0</td>\n",
       "      <td>1522.0</td>\n",
       "    </tr>\n",
       "    <tr>\n",
       "      <th>25.0-30.0</th>\n",
       "      <td>3577.0</td>\n",
       "      <td>16150.0</td>\n",
       "      <td>25682.0</td>\n",
       "      <td>33325.0</td>\n",
       "      <td>37394.0</td>\n",
       "      <td>34769.0</td>\n",
       "      <td>35736.0</td>\n",
       "      <td>28913.0</td>\n",
       "      <td>25806.0</td>\n",
       "      <td>13497.0</td>\n",
       "      <td>...</td>\n",
       "      <td>12891.0</td>\n",
       "      <td>14904.0</td>\n",
       "      <td>21794.0</td>\n",
       "      <td>20380.0</td>\n",
       "      <td>23210.0</td>\n",
       "      <td>13745.0</td>\n",
       "      <td>13094.0</td>\n",
       "      <td>6852.0</td>\n",
       "      <td>3756.0</td>\n",
       "      <td>682.0</td>\n",
       "    </tr>\n",
       "    <tr>\n",
       "      <th>30</th>\n",
       "      <td>515.0</td>\n",
       "      <td>2552.0</td>\n",
       "      <td>4285.0</td>\n",
       "      <td>4942.0</td>\n",
       "      <td>4816.0</td>\n",
       "      <td>3429.0</td>\n",
       "      <td>2765.0</td>\n",
       "      <td>1700.0</td>\n",
       "      <td>1411.0</td>\n",
       "      <td>600.0</td>\n",
       "      <td>...</td>\n",
       "      <td>1918.0</td>\n",
       "      <td>1762.0</td>\n",
       "      <td>2262.0</td>\n",
       "      <td>1930.0</td>\n",
       "      <td>2419.0</td>\n",
       "      <td>1417.0</td>\n",
       "      <td>1419.0</td>\n",
       "      <td>750.0</td>\n",
       "      <td>456.0</td>\n",
       "      <td>28.0</td>\n",
       "    </tr>\n",
       "  </tbody>\n",
       "</table>\n",
       "<p>4 rows × 28 columns</p>\n",
       "</div>"
      ],
      "text/plain": [
       "성별코드              1                                                        \\\n",
       "연령대코드(5세단위)      5        6        7        8        9        10       11   \n",
       "18.5          582.0      0.0    835.0    944.0   1093.0   1060.0   1265.0   \n",
       "18.5-25.0    4864.0  15350.0  18136.0  20460.0  23850.0  23255.0  26386.0   \n",
       "25.0-30.0    3577.0  16150.0  25682.0  33325.0  37394.0  34769.0  35736.0   \n",
       "30            515.0   2552.0   4285.0   4942.0   4816.0   3429.0   2765.0   \n",
       "\n",
       "성별코드                                    ...        2                    \\\n",
       "연령대코드(5세단위)       12       13       14  ...       9        10       11   \n",
       "18.5          1267.0   1252.0    824.0  ...   4971.0   3042.0   2594.0   \n",
       "18.5-25.0    24366.0  23786.0  13856.0  ...  34585.0  32597.0  38219.0   \n",
       "25.0-30.0    28913.0  25806.0  13497.0  ...  12891.0  14904.0  21794.0   \n",
       "30            1700.0   1411.0    600.0  ...   1918.0   1762.0   2262.0   \n",
       "\n",
       "성별코드                                                                     \n",
       "연령대코드(5세단위)       12       13       14       15      16      17      18  \n",
       "18.5          1805.0   1404.0    620.0    681.0   515.0   549.0   324.0  \n",
       "18.5-25.0    30773.0  27829.0  13670.0  12542.0  7374.0  5057.0  1522.0  \n",
       "25.0-30.0    20380.0  23210.0  13745.0  13094.0  6852.0  3756.0   682.0  \n",
       "30            1930.0   2419.0   1417.0   1419.0   750.0   456.0    28.0  \n",
       "\n",
       "[4 rows x 28 columns]"
      ]
     },
     "execution_count": 7,
     "metadata": {},
     "output_type": "execute_result"
    }
   ],
   "source": [
    "temp.iloc[1, 0] = 0\n",
    "temp=temp.T\n",
    "temp"
   ]
  },
  {
   "cell_type": "code",
   "execution_count": 33,
   "metadata": {},
   "outputs": [
    {
     "name": "stdout",
     "output_type": "stream",
     "text": [
      "             18.5  18.5-25.0  25.0-30.0    30     비율\n",
      "연령대코드(5세단위)                                         \n",
      "5            2655      12334       5441   787   2.15\n",
      "6               0      34461      20411  3227   5.88\n",
      "7            5233      35868      30320  5092   7.75\n",
      "8            4309      37528      38536  5769   8.72\n",
      "9            6064      58435      50285  6734  12.30\n",
      "10           4102      55852      49673  5191  11.62\n",
      "11           3859      64605      57530  5027  13.26\n",
      "12           3072      55139      49293  3630  11.25\n",
      "13           2656      51615      49016  3830  10.84\n",
      "14           1444      27526      27242  2017   5.90\n",
      "15           1497      25176      24422  1874   5.36\n",
      "16           1071      14334      11909   893   2.86\n",
      "17            988       9273       6195   507   1.72\n",
      "18            405       2379        984    28   0.38\n"
     ]
    }
   ],
   "source": [
    "import pandas as pd\n",
    "import numpy as np\n",
    "\n",
    "def bmi_cal(x, y):\n",
    "    if y == 18.5:\n",
    "        return df_2018[(df_2018['BMI'] < y)].groupby('연령대코드(5세단위)')['BMI'].count()\n",
    "    elif x != 30 and y != 18.5:\n",
    "        return df_2018[(df_2018['BMI'] < y) & (df_2018['BMI'] >= x)].groupby('연령대코드(5세단위)')['BMI'].count()\n",
    "    elif x == 30:\n",
    "        return df_2018[(df_2018['BMI'] >= x)].groupby('연령대코드(5세단위)')['BMI'].count()\n",
    "\n",
    "temp = pd.DataFrame()\n",
    "for x, y in zip(np.arange(13, 30, 5.5), np.arange(18.5, 45, 5.5)):\n",
    "    temp = pd.concat([temp, bmi_cal(x, y).to_frame()], axis=1)\n",
    "\n",
    "temp.columns = ['18.5', '18.5-25.0', '25.0-30.0', '30']\n",
    "temp.iloc[1, 0] = 0\n",
    "\n",
    "total_counts = temp.sum(axis=1)\n",
    "temp['비율'] = temp.sum(axis=1) / total_counts.sum() * 100\n",
    "temp = temp.round(2)\n",
    "\n",
    "print(temp)\n"
   ]
  },
  {
   "cell_type": "code",
   "execution_count": 36,
   "metadata": {},
   "outputs": [
    {
     "data": {
      "text/plain": [
       "array([ 2.15,  5.88,  7.75,  8.72, 12.3 , 11.62, 13.26, 11.25, 10.84,\n",
       "        5.9 ,  5.36,  2.86,  1.72,  0.38])"
      ]
     },
     "execution_count": 36,
     "metadata": {},
     "output_type": "execute_result"
    }
   ],
   "source": [
    "temp['비율'].values"
   ]
  },
  {
   "cell_type": "code",
   "execution_count": 39,
   "metadata": {},
   "outputs": [
    {
     "name": "stderr",
     "output_type": "stream",
     "text": [
      "C:\\Users\\Admin\\AppData\\Local\\Temp\\ipykernel_26496\\211038289.py:14: FutureWarning: The frame.append method is deprecated and will be removed from pandas in a future version. Use pandas.concat instead.\n",
      "  temp = temp.append({'범위': f'{x}-{y}', '개수': bmi_cal(x, y)}, ignore_index=True)\n",
      "C:\\Users\\Admin\\AppData\\Local\\Temp\\ipykernel_26496\\211038289.py:14: FutureWarning: The frame.append method is deprecated and will be removed from pandas in a future version. Use pandas.concat instead.\n",
      "  temp = temp.append({'범위': f'{x}-{y}', '개수': bmi_cal(x, y)}, ignore_index=True)\n"
     ]
    },
    {
     "name": "stdout",
     "output_type": "stream",
     "text": [
      "          범위      개수     비율\n",
      "0  13.0-18.5   43944   4.42\n",
      "1  18.5-24.0  484525  48.73\n",
      "2  24.0-29.5  421257  42.37\n",
      "3  29.5-35.0   44606   4.49\n"
     ]
    },
    {
     "name": "stderr",
     "output_type": "stream",
     "text": [
      "C:\\Users\\Admin\\AppData\\Local\\Temp\\ipykernel_26496\\211038289.py:14: FutureWarning: The frame.append method is deprecated and will be removed from pandas in a future version. Use pandas.concat instead.\n",
      "  temp = temp.append({'범위': f'{x}-{y}', '개수': bmi_cal(x, y)}, ignore_index=True)\n",
      "C:\\Users\\Admin\\AppData\\Local\\Temp\\ipykernel_26496\\211038289.py:14: FutureWarning: The frame.append method is deprecated and will be removed from pandas in a future version. Use pandas.concat instead.\n",
      "  temp = temp.append({'범위': f'{x}-{y}', '개수': bmi_cal(x, y)}, ignore_index=True)\n"
     ]
    }
   ],
   "source": [
    "import pandas as pd\n",
    "import numpy as np\n",
    "\n",
    "def bmi_cal(x, y):\n",
    "    if y == 18.5:\n",
    "        return df_2018[(df_2018['BMI'] < y)]['BMI'].count()\n",
    "    elif x != 30 and y != 18.5:\n",
    "        return df_2018[(df_2018['BMI'] < y) & (df_2018['BMI'] >= x)]['BMI'].count()\n",
    "    elif x == 30:\n",
    "        return df_2018[(df_2018['BMI'] >= x)]['BMI'].count()\n",
    "\n",
    "temp = pd.DataFrame()\n",
    "for x, y in zip(np.arange(13, 30, 5.5), np.arange(18.5, 45, 5.5)):\n",
    "    temp = temp.append({'범위': f'{x}-{y}', '개수': bmi_cal(x, y)}, ignore_index=True)\n",
    "\n",
    "total_count = temp['개수'].sum()\n",
    "temp['비율'] = (temp['개수'] / total_count) * 100\n",
    "temp = temp.round(2)\n",
    "\n",
    "print(temp)\n"
   ]
  },
  {
   "cell_type": "code",
   "execution_count": 40,
   "metadata": {},
   "outputs": [
    {
     "data": {
      "text/plain": [
       "Float64Index([4.42, 48.73, 42.37, 4.49], dtype='float64')"
      ]
     },
     "execution_count": 40,
     "metadata": {},
     "output_type": "execute_result"
    }
   ],
   "source": [
    "male=temp['비율'].value_counts()\n",
    "male.index\n"
   ]
  },
  {
   "cell_type": "code",
   "execution_count": 42,
   "metadata": {},
   "outputs": [
    {
     "data": {
      "text/plain": [
       "[{'BMI': -5.5, '비율': 4.42},\n",
       " {'BMI': -5.5, '비율': 48.73},\n",
       " {'BMI': -5.5, '비율': 42.37},\n",
       " {'BMI': -5.5, '비율': 4.49}]"
      ]
     },
     "execution_count": 42,
     "metadata": {},
     "output_type": "execute_result"
    }
   ],
   "source": [
    "# index값 넣기\n",
    "male_age = [18.5, 18.5-24.0, 24.0-29.5, 29.5-35.0]\n",
    "male_pct = [4.42, 48.73, 42.37, 4.49]\n",
    "temp_male = [] \n",
    "for m, n in zip(male_age, male_pct):\n",
    "    temp_male.append({'BMI': m, '비율': n})\n",
    "temp_male"
   ]
  },
  {
   "cell_type": "code",
   "execution_count": 1,
   "metadata": {},
   "outputs": [
    {
     "name": "stdout",
     "output_type": "stream",
     "text": [
      "당신의 체질량지수는 (23.4) 입니다.\n",
      "연령대 평균 체질량지수는 (22) 입니다.\n",
      "당신의 체질량지수는 연령대 상위 (31%) 입니다.\n",
      "당신의 체질량지수는 (과체중) 입니다.\n"
     ]
    }
   ],
   "source": [
    "def calculate_bmi(weight, height):\n",
    "    bmi = round(weight /(height/100) **2,1) # 체질량지수 계산\n",
    "    age_average_bmi = 22  # 연령대 평균 체질량지수\n",
    "    percentile = 31  # 체질량지수 백분위\n",
    "\n",
    "    bmi_category = \"\"\n",
    "    if bmi < 18.5:\n",
    "        bmi_category = \"저체중\"\n",
    "    elif bmi < 23:\n",
    "        bmi_category = \"정상\"\n",
    "    elif bmi < 25:\n",
    "        bmi_category = \"과체중\"\n",
    "    else:\n",
    "        bmi_category = \"비만\"\n",
    "\n",
    "    result = f\"당신의 체질량지수는 ({bmi}) 입니다.\\n\"\n",
    "    result += f\"연령대 평균 체질량지수는 ({age_average_bmi}) 입니다.\\n\"\n",
    "    result += f\"당신의 체질량지수는 연령대 상위 ({percentile}%) 입니다.\\n\"\n",
    "    result += f\"당신의 체질량지수는 ({bmi_category}) 입니다.\"\n",
    "\n",
    "    return result\n",
    "\n",
    "weight = float(input(\"몸무게(kg)를 입력하세요: \"))\n",
    "height = float(input(\"키(m)를 입력하세요: \"))\n",
    "\n",
    "result = calculate_bmi(weight, height)\n",
    "print(result)\n"
   ]
  },
  {
   "cell_type": "code",
   "execution_count": 3,
   "metadata": {},
   "outputs": [
    {
     "name": "stdout",
     "output_type": "stream",
     "text": [
      "당신의 체질량지수는 (24.2) 입니다.\n",
      "당신의 체질량지수는 (과체중) 입니다.\n"
     ]
    }
   ],
   "source": [
    "def calculate_bmi(weight, height):\n",
    "    bmi = round(weight /(height/100) **2,1) # 체질량지수 계산\n",
    "\n",
    "    bmi_category = \"\"\n",
    "    if bmi < 18.5:\n",
    "        bmi_category = \"저체중\"\n",
    "    elif bmi < 23:\n",
    "        bmi_category = \"정상\"\n",
    "    elif bmi < 25:\n",
    "        bmi_category = \"과체중\"\n",
    "    else:\n",
    "        bmi_category = \"비만\"\n",
    "\n",
    "    result = f\"당신의 체질량지수는 ({bmi}) 입니다.\\n\"\n",
    "    result += f\"당신의 체질량지수는 ({bmi_category}) 입니다.\"\n",
    "\n",
    "\n",
    "    return result\n",
    "\n",
    "# weight = float(input(\"몸무게(kg)를 입력하세요: \"))\n",
    "# height = float(input(\"키(m)를 입력하세요: \"))\n",
    "\n",
    "# result = calculate_bmi(weight, height)\n",
    "# print(result)"
   ]
  },
  {
   "attachments": {},
   "cell_type": "markdown",
   "metadata": {},
   "source": [
    "- 평균 체질량 구하기"
   ]
  },
  {
   "cell_type": "code",
   "execution_count": 19,
   "metadata": {},
   "outputs": [
    {
     "data": {
      "text/html": [
       "<div>\n",
       "<style scoped>\n",
       "    .dataframe tbody tr th:only-of-type {\n",
       "        vertical-align: middle;\n",
       "    }\n",
       "\n",
       "    .dataframe tbody tr th {\n",
       "        vertical-align: top;\n",
       "    }\n",
       "\n",
       "    .dataframe thead th {\n",
       "        text-align: right;\n",
       "    }\n",
       "</style>\n",
       "<table border=\"1\" class=\"dataframe\">\n",
       "  <thead>\n",
       "    <tr style=\"text-align: right;\">\n",
       "      <th></th>\n",
       "      <th>기준년도</th>\n",
       "      <th>가입자일련번호</th>\n",
       "      <th>성별코드</th>\n",
       "      <th>연령대코드(5세단위)</th>\n",
       "      <th>시도코드</th>\n",
       "      <th>신장(5Cm단위)</th>\n",
       "      <th>체중(5Kg단위)</th>\n",
       "      <th>허리둘레</th>\n",
       "      <th>시력(좌)</th>\n",
       "      <th>시력(우)</th>\n",
       "      <th>...</th>\n",
       "      <th>흡연상태</th>\n",
       "      <th>음주여부</th>\n",
       "      <th>구강검진수검여부</th>\n",
       "      <th>치아우식증유무</th>\n",
       "      <th>결손치유무</th>\n",
       "      <th>치아마모증유무</th>\n",
       "      <th>제3대구치(사랑니)이상</th>\n",
       "      <th>치석</th>\n",
       "      <th>데이터공개일자</th>\n",
       "      <th>BMI</th>\n",
       "    </tr>\n",
       "  </thead>\n",
       "  <tbody>\n",
       "    <tr>\n",
       "      <th>0</th>\n",
       "      <td>2018</td>\n",
       "      <td>1</td>\n",
       "      <td>2</td>\n",
       "      <td>7</td>\n",
       "      <td>48</td>\n",
       "      <td>160</td>\n",
       "      <td>60</td>\n",
       "      <td>79.5</td>\n",
       "      <td>1.5</td>\n",
       "      <td>1.5</td>\n",
       "      <td>...</td>\n",
       "      <td>1.0</td>\n",
       "      <td>NaN</td>\n",
       "      <td>N</td>\n",
       "      <td>NaN</td>\n",
       "      <td>NaN</td>\n",
       "      <td>NaN</td>\n",
       "      <td>NaN</td>\n",
       "      <td>NaN</td>\n",
       "      <td>2019-12-19</td>\n",
       "      <td>23.4</td>\n",
       "    </tr>\n",
       "    <tr>\n",
       "      <th>1</th>\n",
       "      <td>2018</td>\n",
       "      <td>2</td>\n",
       "      <td>1</td>\n",
       "      <td>6</td>\n",
       "      <td>26</td>\n",
       "      <td>170</td>\n",
       "      <td>55</td>\n",
       "      <td>69.3</td>\n",
       "      <td>1.2</td>\n",
       "      <td>0.8</td>\n",
       "      <td>...</td>\n",
       "      <td>1.0</td>\n",
       "      <td>Y</td>\n",
       "      <td>Y</td>\n",
       "      <td>0.0</td>\n",
       "      <td>NaN</td>\n",
       "      <td>NaN</td>\n",
       "      <td>NaN</td>\n",
       "      <td>N</td>\n",
       "      <td>2019-12-19</td>\n",
       "      <td>19.0</td>\n",
       "    </tr>\n",
       "    <tr>\n",
       "      <th>2</th>\n",
       "      <td>2018</td>\n",
       "      <td>3</td>\n",
       "      <td>1</td>\n",
       "      <td>12</td>\n",
       "      <td>28</td>\n",
       "      <td>165</td>\n",
       "      <td>70</td>\n",
       "      <td>85.0</td>\n",
       "      <td>0.8</td>\n",
       "      <td>0.8</td>\n",
       "      <td>...</td>\n",
       "      <td>2.0</td>\n",
       "      <td>Y</td>\n",
       "      <td>Y</td>\n",
       "      <td>0.0</td>\n",
       "      <td>NaN</td>\n",
       "      <td>NaN</td>\n",
       "      <td>NaN</td>\n",
       "      <td>N</td>\n",
       "      <td>2019-12-19</td>\n",
       "      <td>25.7</td>\n",
       "    </tr>\n",
       "  </tbody>\n",
       "</table>\n",
       "<p>3 rows × 35 columns</p>\n",
       "</div>"
      ],
      "text/plain": [
       "   기준년도  가입자일련번호  성별코드  연령대코드(5세단위)  시도코드  신장(5Cm단위)  체중(5Kg단위)  허리둘레  시력(좌)   \n",
       "0  2018        1     2            7    48        160         60  79.5    1.5  \\\n",
       "1  2018        2     1            6    26        170         55  69.3    1.2   \n",
       "2  2018        3     1           12    28        165         70  85.0    0.8   \n",
       "\n",
       "   시력(우)  ...  흡연상태  음주여부  구강검진수검여부  치아우식증유무  결손치유무  치아마모증유무  제3대구치(사랑니)이상   \n",
       "0    1.5  ...   1.0   NaN         N      NaN    NaN      NaN           NaN  \\\n",
       "1    0.8  ...   1.0     Y         Y      0.0    NaN      NaN           NaN   \n",
       "2    0.8  ...   2.0     Y         Y      0.0    NaN      NaN           NaN   \n",
       "\n",
       "    치석     데이터공개일자   BMI  \n",
       "0  NaN  2019-12-19  23.4  \n",
       "1    N  2019-12-19  19.0  \n",
       "2    N  2019-12-19  25.7  \n",
       "\n",
       "[3 rows x 35 columns]"
      ]
     },
     "execution_count": 19,
     "metadata": {},
     "output_type": "execute_result"
    }
   ],
   "source": [
    "bmi_2018 =round(df_2018['체중(5Kg단위)'] /(df_2018['신장(5Cm단위)']/100) **2,1)\n",
    "df_2018['BMI'] = bmi_2018\n",
    "df_2018.head(3)"
   ]
  },
  {
   "cell_type": "code",
   "execution_count": 20,
   "metadata": {},
   "outputs": [
    {
     "data": {
      "text/html": [
       "<div>\n",
       "<style scoped>\n",
       "    .dataframe tbody tr th:only-of-type {\n",
       "        vertical-align: middle;\n",
       "    }\n",
       "\n",
       "    .dataframe tbody tr th {\n",
       "        vertical-align: top;\n",
       "    }\n",
       "\n",
       "    .dataframe thead th {\n",
       "        text-align: right;\n",
       "    }\n",
       "</style>\n",
       "<table border=\"1\" class=\"dataframe\">\n",
       "  <thead>\n",
       "    <tr style=\"text-align: right;\">\n",
       "      <th></th>\n",
       "      <th></th>\n",
       "      <th>BMI</th>\n",
       "    </tr>\n",
       "    <tr>\n",
       "      <th>연령대코드(5세단위)</th>\n",
       "      <th>성별코드</th>\n",
       "      <th></th>\n",
       "    </tr>\n",
       "  </thead>\n",
       "  <tbody>\n",
       "    <tr>\n",
       "      <th rowspan=\"2\" valign=\"top\">5</th>\n",
       "      <th>1</th>\n",
       "      <td>228693.2</td>\n",
       "    </tr>\n",
       "    <tr>\n",
       "      <th>2</th>\n",
       "      <td>252330.9</td>\n",
       "    </tr>\n",
       "    <tr>\n",
       "      <th>6</th>\n",
       "      <th>1</th>\n",
       "      <td>877504.1</td>\n",
       "    </tr>\n",
       "  </tbody>\n",
       "</table>\n",
       "</div>"
      ],
      "text/plain": [
       "                       BMI\n",
       "연령대코드(5세단위) 성별코드          \n",
       "5           1     228693.2\n",
       "            2     252330.9\n",
       "6           1     877504.1"
      ]
     },
     "execution_count": 20,
     "metadata": {},
     "output_type": "execute_result"
    }
   ],
   "source": [
    "df_BMI_2018=df_2018.groupby(['연령대코드(5세단위)','성별코드'])['BMI'].sum().round(1)\n",
    "df_BMI_2018=pd.DataFrame(df_BMI_2018)\n",
    "df_BMI_2018.head(3)"
   ]
  },
  {
   "cell_type": "code",
   "execution_count": 21,
   "metadata": {},
   "outputs": [
    {
     "data": {
      "text/html": [
       "<div>\n",
       "<style scoped>\n",
       "    .dataframe tbody tr th:only-of-type {\n",
       "        vertical-align: middle;\n",
       "    }\n",
       "\n",
       "    .dataframe tbody tr th {\n",
       "        vertical-align: top;\n",
       "    }\n",
       "\n",
       "    .dataframe thead th {\n",
       "        text-align: right;\n",
       "    }\n",
       "</style>\n",
       "<table border=\"1\" class=\"dataframe\">\n",
       "  <thead>\n",
       "    <tr style=\"text-align: right;\">\n",
       "      <th></th>\n",
       "      <th></th>\n",
       "      <th>연령대코드(5세단위)</th>\n",
       "    </tr>\n",
       "    <tr>\n",
       "      <th>연령대코드(5세단위)</th>\n",
       "      <th>성별코드</th>\n",
       "      <th></th>\n",
       "    </tr>\n",
       "  </thead>\n",
       "  <tbody>\n",
       "    <tr>\n",
       "      <th rowspan=\"2\" valign=\"top\">5</th>\n",
       "      <th>1</th>\n",
       "      <td>9619</td>\n",
       "    </tr>\n",
       "    <tr>\n",
       "      <th>2</th>\n",
       "      <td>11732</td>\n",
       "    </tr>\n",
       "  </tbody>\n",
       "</table>\n",
       "</div>"
      ],
      "text/plain": [
       "                  연령대코드(5세단위)\n",
       "연령대코드(5세단위) 성별코드             \n",
       "5           1            9619\n",
       "            2           11732"
      ]
     },
     "execution_count": 21,
     "metadata": {},
     "output_type": "execute_result"
    }
   ],
   "source": [
    "# 각연령대 인원\n",
    "df_age_2018=df_2018.groupby(['연령대코드(5세단위)','성별코드'])['연령대코드(5세단위)'].count().round(1)\n",
    "df_age_2018=pd.DataFrame(df_age_2018)\n",
    "df_age_2018.head(2)"
   ]
  },
  {
   "cell_type": "code",
   "execution_count": 22,
   "metadata": {},
   "outputs": [
    {
     "data": {
      "text/html": [
       "<div>\n",
       "<style scoped>\n",
       "    .dataframe tbody tr th:only-of-type {\n",
       "        vertical-align: middle;\n",
       "    }\n",
       "\n",
       "    .dataframe tbody tr th {\n",
       "        vertical-align: top;\n",
       "    }\n",
       "\n",
       "    .dataframe thead th {\n",
       "        text-align: right;\n",
       "    }\n",
       "</style>\n",
       "<table border=\"1\" class=\"dataframe\">\n",
       "  <thead>\n",
       "    <tr style=\"text-align: right;\">\n",
       "      <th></th>\n",
       "      <th></th>\n",
       "      <th>BMI</th>\n",
       "      <th>연령대코드(5세단위)</th>\n",
       "    </tr>\n",
       "    <tr>\n",
       "      <th>연령대코드(5세단위)</th>\n",
       "      <th>성별코드</th>\n",
       "      <th></th>\n",
       "      <th></th>\n",
       "    </tr>\n",
       "  </thead>\n",
       "  <tbody>\n",
       "    <tr>\n",
       "      <th rowspan=\"2\" valign=\"top\">5</th>\n",
       "      <th>1</th>\n",
       "      <td>228693.2</td>\n",
       "      <td>9619</td>\n",
       "    </tr>\n",
       "    <tr>\n",
       "      <th>2</th>\n",
       "      <td>252330.9</td>\n",
       "      <td>11732</td>\n",
       "    </tr>\n",
       "  </tbody>\n",
       "</table>\n",
       "</div>"
      ],
      "text/plain": [
       "                       BMI  연령대코드(5세단위)\n",
       "연령대코드(5세단위) 성별코드                       \n",
       "5           1     228693.2         9619\n",
       "            2     252330.9        11732"
      ]
     },
     "execution_count": 22,
     "metadata": {},
     "output_type": "execute_result"
    }
   ],
   "source": [
    "df_last = pd.concat([df_BMI_2018,df_age_2018], axis=1)\n",
    "df_last.head(2)"
   ]
  },
  {
   "cell_type": "code",
   "execution_count": 23,
   "metadata": {},
   "outputs": [
    {
     "data": {
      "text/html": [
       "<div>\n",
       "<style scoped>\n",
       "    .dataframe tbody tr th:only-of-type {\n",
       "        vertical-align: middle;\n",
       "    }\n",
       "\n",
       "    .dataframe tbody tr th {\n",
       "        vertical-align: top;\n",
       "    }\n",
       "\n",
       "    .dataframe thead th {\n",
       "        text-align: right;\n",
       "    }\n",
       "</style>\n",
       "<table border=\"1\" class=\"dataframe\">\n",
       "  <thead>\n",
       "    <tr style=\"text-align: right;\">\n",
       "      <th></th>\n",
       "      <th></th>\n",
       "      <th>BMI</th>\n",
       "      <th>연령대코드(5세단위)</th>\n",
       "      <th>평균 체질량</th>\n",
       "    </tr>\n",
       "    <tr>\n",
       "      <th>연령대코드(5세단위)</th>\n",
       "      <th>성별코드</th>\n",
       "      <th></th>\n",
       "      <th></th>\n",
       "      <th></th>\n",
       "    </tr>\n",
       "  </thead>\n",
       "  <tbody>\n",
       "    <tr>\n",
       "      <th rowspan=\"2\" valign=\"top\">5</th>\n",
       "      <th>1</th>\n",
       "      <td>228693.2</td>\n",
       "      <td>9619</td>\n",
       "      <td>23.78</td>\n",
       "    </tr>\n",
       "    <tr>\n",
       "      <th>2</th>\n",
       "      <td>252330.9</td>\n",
       "      <td>11732</td>\n",
       "      <td>21.51</td>\n",
       "    </tr>\n",
       "    <tr>\n",
       "      <th>6</th>\n",
       "      <th>1</th>\n",
       "      <td>877504.1</td>\n",
       "      <td>35523</td>\n",
       "      <td>24.70</td>\n",
       "    </tr>\n",
       "  </tbody>\n",
       "</table>\n",
       "</div>"
      ],
      "text/plain": [
       "                       BMI  연령대코드(5세단위)  평균 체질량\n",
       "연령대코드(5세단위) 성별코드                               \n",
       "5           1     228693.2         9619   23.78\n",
       "            2     252330.9        11732   21.51\n",
       "6           1     877504.1        35523   24.70"
      ]
     },
     "execution_count": 23,
     "metadata": {},
     "output_type": "execute_result"
    }
   ],
   "source": [
    "last=(df_last['BMI']/df_last['연령대코드(5세단위)']).round(2)\n",
    "df_last['평균 체질량'] =last\n",
    "df_last.head(3)"
   ]
  },
  {
   "cell_type": "code",
   "execution_count": 34,
   "metadata": {},
   "outputs": [
    {
     "name": "stdout",
     "output_type": "stream",
     "text": [
      "[21.51, 21.37, 21.8, 22.17, 22.61, 23.0, 23.39, 23.59, 24.01, 24.33, 24.39, 24.15, 23.7, 22.2]\n"
     ]
    }
   ],
   "source": [
    "filtered_data = df_last[df_last['성별코드'] == 2]['평균 체질량'].values\n",
    "list =[]\n",
    "for height in filtered_data:\n",
    "    list.append(height)\n",
    "print(list)\n"
   ]
  },
  {
   "cell_type": "code",
   "execution_count": 35,
   "metadata": {},
   "outputs": [
    {
     "data": {
      "text/plain": [
       "[{'나이': '20~24세', '평균체질량': 21.51},\n",
       " {'나이': '25~29세', '평균체질량': 21.37},\n",
       " {'나이': '30~34세', '평균체질량': 21.8},\n",
       " {'나이': '35~39세', '평균체질량': 22.17},\n",
       " {'나이': '40~44세', '평균체질량': 22.61},\n",
       " {'나이': '45~49세', '평균체질량': 23.0},\n",
       " {'나이': '50~54세', '평균체질량': 23.39},\n",
       " {'나이': '55~59세', '평균체질량': 23.59},\n",
       " {'나이': '60~64세', '평균체질량': 24.01},\n",
       " {'나이': '65~69세', '평균체질량': 24.33},\n",
       " {'나이': '70~74세', '평균체질량': 24.39},\n",
       " {'나이': '75~79세', '평균체질량': 24.15},\n",
       " {'나이': '80~84세', '평균체질량': 23.7},\n",
       " {'나이': '85세+', '평균체질량': 22.2}]"
      ]
     },
     "execution_count": 35,
     "metadata": {},
     "output_type": "execute_result"
    }
   ],
   "source": [
    "\n",
    "male_age = [ '20~24세', '25~29세', '30~34세', '35~39세', '40~44세', '45~49세', '50~54세', '55~59세',\n",
    "'60~64세', '65~69세', '70~74세', '75~79세','80~84세', '85세+']\n",
    "male_pct = [21.51, 21.37, 21.8, 22.17, 22.61, 23.0, 23.39, 23.59, 24.01, 24.33, 24.39, 24.15, 23.7, 22.2]\n",
    "temp_male = []\n",
    "for m, n in zip(male_age, male_pct):\n",
    "    temp_male.append({'나이': m, '평균체질량': n})\n",
    "temp_male"
   ]
  }
 ],
 "metadata": {
  "kernelspec": {
   "display_name": "base",
   "language": "python",
   "name": "python3"
  },
  "language_info": {
   "codemirror_mode": {
    "name": "ipython",
    "version": 3
   },
   "file_extension": ".py",
   "mimetype": "text/x-python",
   "name": "python",
   "nbconvert_exporter": "python",
   "pygments_lexer": "ipython3",
   "version": "3.10.10"
  },
  "orig_nbformat": 4
 },
 "nbformat": 4,
 "nbformat_minor": 2
}

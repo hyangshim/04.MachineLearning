{
 "cells": [
  {
   "cell_type": "code",
   "execution_count": 48,
   "metadata": {},
   "outputs": [],
   "source": [
    "import numpy as np \n",
    "import pandas as pd"
   ]
  },
  {
   "cell_type": "code",
   "execution_count": 72,
   "metadata": {},
   "outputs": [
    {
     "data": {
      "text/html": [
       "<div>\n",
       "<style scoped>\n",
       "    .dataframe tbody tr th:only-of-type {\n",
       "        vertical-align: middle;\n",
       "    }\n",
       "\n",
       "    .dataframe tbody tr th {\n",
       "        vertical-align: top;\n",
       "    }\n",
       "\n",
       "    .dataframe thead th {\n",
       "        text-align: right;\n",
       "    }\n",
       "</style>\n",
       "<table border=\"1\" class=\"dataframe\">\n",
       "  <thead>\n",
       "    <tr style=\"text-align: right;\">\n",
       "      <th></th>\n",
       "      <th>기준년도</th>\n",
       "      <th>가입자일련번호</th>\n",
       "      <th>성별코드</th>\n",
       "      <th>연령대코드(5세단위)</th>\n",
       "      <th>시도코드</th>\n",
       "      <th>신장(5Cm단위)</th>\n",
       "      <th>체중(5Kg단위)</th>\n",
       "      <th>허리둘레</th>\n",
       "      <th>시력(좌)</th>\n",
       "      <th>시력(우)</th>\n",
       "      <th>...</th>\n",
       "      <th>감마지티피</th>\n",
       "      <th>흡연상태</th>\n",
       "      <th>음주여부</th>\n",
       "      <th>구강검진수검여부</th>\n",
       "      <th>치아우식증유무</th>\n",
       "      <th>결손치유무</th>\n",
       "      <th>치아마모증유무</th>\n",
       "      <th>제3대구치(사랑니)이상</th>\n",
       "      <th>치석</th>\n",
       "      <th>데이터공개일자</th>\n",
       "    </tr>\n",
       "  </thead>\n",
       "  <tbody>\n",
       "    <tr>\n",
       "      <th>0</th>\n",
       "      <td>2018</td>\n",
       "      <td>1</td>\n",
       "      <td>2</td>\n",
       "      <td>7</td>\n",
       "      <td>48</td>\n",
       "      <td>160</td>\n",
       "      <td>60</td>\n",
       "      <td>79.5</td>\n",
       "      <td>1.5</td>\n",
       "      <td>1.5</td>\n",
       "      <td>...</td>\n",
       "      <td>12.0</td>\n",
       "      <td>1.0</td>\n",
       "      <td>NaN</td>\n",
       "      <td>N</td>\n",
       "      <td>NaN</td>\n",
       "      <td>NaN</td>\n",
       "      <td>NaN</td>\n",
       "      <td>NaN</td>\n",
       "      <td>NaN</td>\n",
       "      <td>2019-12-19</td>\n",
       "    </tr>\n",
       "    <tr>\n",
       "      <th>1</th>\n",
       "      <td>2018</td>\n",
       "      <td>2</td>\n",
       "      <td>1</td>\n",
       "      <td>6</td>\n",
       "      <td>26</td>\n",
       "      <td>170</td>\n",
       "      <td>55</td>\n",
       "      <td>69.3</td>\n",
       "      <td>1.2</td>\n",
       "      <td>0.8</td>\n",
       "      <td>...</td>\n",
       "      <td>47.0</td>\n",
       "      <td>1.0</td>\n",
       "      <td>Y</td>\n",
       "      <td>Y</td>\n",
       "      <td>0.0</td>\n",
       "      <td>NaN</td>\n",
       "      <td>NaN</td>\n",
       "      <td>NaN</td>\n",
       "      <td>N</td>\n",
       "      <td>2019-12-19</td>\n",
       "    </tr>\n",
       "  </tbody>\n",
       "</table>\n",
       "<p>2 rows × 34 columns</p>\n",
       "</div>"
      ],
      "text/plain": [
       "   기준년도  가입자일련번호  성별코드  연령대코드(5세단위)  시도코드  신장(5Cm단위)  체중(5Kg단위)  허리둘레  시력(좌)   \n",
       "0  2018        1     2            7    48        160         60  79.5    1.5  \\\n",
       "1  2018        2     1            6    26        170         55  69.3    1.2   \n",
       "\n",
       "   시력(우)  ...  감마지티피  흡연상태  음주여부  구강검진수검여부  치아우식증유무  결손치유무  치아마모증유무   \n",
       "0    1.5  ...   12.0   1.0   NaN         N      NaN    NaN      NaN  \\\n",
       "1    0.8  ...   47.0   1.0     Y         Y      0.0    NaN      NaN   \n",
       "\n",
       "   제3대구치(사랑니)이상   치석     데이터공개일자  \n",
       "0           NaN  NaN  2019-12-19  \n",
       "1           NaN    N  2019-12-19  \n",
       "\n",
       "[2 rows x 34 columns]"
      ]
     },
     "execution_count": 72,
     "metadata": {},
     "output_type": "execute_result"
    }
   ],
   "source": [
    "df_2018 = pd.read_csv('../01.웹/data_건강/건강검진정보_2018.csv', encoding='euc-kr')\n",
    "df_2018.head(2)"
   ]
  },
  {
   "cell_type": "code",
   "execution_count": 50,
   "metadata": {},
   "outputs": [
    {
     "data": {
      "text/plain": [
       "Index(['기준년도', '가입자일련번호', '성별코드', '연령대코드(5세단위)', '시도코드', '신장(5Cm단위)',\n",
       "       '체중(5Kg단위)', '허리둘레', '시력(좌)', '시력(우)', '청력(좌)', '청력(우)', '수축기혈압',\n",
       "       '이완기혈압', '식전혈당(공복혈당)', '총콜레스테롤', '트리글리세라이드', 'HDL콜레스테롤', 'LDL콜레스테롤',\n",
       "       '혈색소', '요단백', '혈청크레아티닌', '(혈청지오티)AST', '(혈청지오티)ALT', '감마지티피', '흡연상태',\n",
       "       '음주여부', '구강검진수검여부', '치아우식증유무', '결손치유무', '치아마모증유무', '제3대구치(사랑니)이상', '치석',\n",
       "       '데이터공개일자'],\n",
       "      dtype='object')"
      ]
     },
     "execution_count": 50,
     "metadata": {},
     "output_type": "execute_result"
    }
   ],
   "source": [
    "df_2018.columns"
   ]
  },
  {
   "cell_type": "code",
   "execution_count": 51,
   "metadata": {},
   "outputs": [
    {
     "name": "stdout",
     "output_type": "stream",
     "text": [
      "허리둘레 60미만: 0.0%\n",
      "허리둘레 65미만: 0.0%\n",
      "허리둘레 70미만: 0.0%\n",
      "허리둘레 75미만: 0.0%\n",
      "허리둘레 80미만: 0.0%\n",
      "허리둘레 85미만: 0.0%\n",
      "허리둘레 90미만: 100.0%\n",
      "허리둘레 95미만: 0.0%\n",
      "허리둘레 100미만: 0.0%\n",
      "허리둘레 100이상: 0.0%\n",
      "당신의 허리둘레는 연령대 상위(33%) 입니다.\n",
      "당신은 복부비만이 아닙니다.\n"
     ]
    }
   ],
   "source": [
    "z=1\n",
    "waist = [88]\n",
    "waist_ranges = [60, 65, 70, 75, 80, 85, 90, 95, 100]\n",
    "\n",
    "waist_counts = [0] * len(waist_ranges)  # 허리둘레 범위별 개수를 저장할 리스트 초기화\n",
    "\n",
    "for waist in waist:\n",
    "    for i, range_value in enumerate(waist_ranges):\n",
    "        if waist < range_value:\n",
    "            waist_counts[i] += 1\n",
    "            break\n",
    "\n",
    "total_count = sum(waist_counts)  # 전체 데이터 개수 계산\n",
    "\n",
    "waist_percentages = [count / total_count * 100 for count in waist_counts]  # 비율 계산\n",
    "\n",
    "# 허리둘레 범위 출력\n",
    "for i, range_value in enumerate(waist_ranges):\n",
    "    print(f\"허리둘레 {range_value}미만: {waist_percentages[i]:.1f}%\")\n",
    "print(f\"허리둘레 100이상: {waist_percentages[-1]:.1f}%\")\n",
    "\n",
    "# 연령대 상위 백분율 계산\n",
    "cumulative_percentage = 0\n",
    "age_group_percentage = 33  # 연령대 상위 백분율\n",
    "\n",
    "for i, percentage in enumerate(waist_percentages):\n",
    "    cumulative_percentage += percentage\n",
    "    if cumulative_percentage >= age_group_percentage:\n",
    "        age_group_range = f\"{waist_ranges[i-1]}미만\" if i > 0 else \"60미만\"\n",
    "        z += z\n",
    "\n",
    "print(f\"당신의 허리둘레는 연령대 상위({age_group_percentage}%) 입니다.\")\n",
    "print(f\"당신은 복부비만{'입니다.' if waist >= 90 else '이 아닙니다.'}\")"
   ]
  },
  {
   "cell_type": "code",
   "execution_count": 52,
   "metadata": {},
   "outputs": [
    {
     "data": {
      "text/plain": [
       "[{'체중': 40, '비율': 0.1},\n",
       " {'체중': 45, '비율': 0.77},\n",
       " {'체중': 50, '비율': 2.98},\n",
       " {'체중': 55, '비율': 7.13},\n",
       " {'체중': 60, '비율': 13.17},\n",
       " {'체중': 65, '비율': 17.9},\n",
       " {'체중': 70, '비율': 18.84},\n",
       " {'체중': 75, '비율': 15.15},\n",
       " {'체중': 80, '비율': 10.39},\n",
       " {'체중': 85, '비율': 6.16},\n",
       " {'체중': 90, '비율': 3.49},\n",
       " {'체중': 95, '비율': 1.91},\n",
       " {'체중': 100, '비율': 1.02},\n",
       " {'체중': 105, '비율': 0.51},\n",
       " {'체중': 110, '비율': 0.26},\n",
       " {'체중': 115, '비율': 0.12},\n",
       " {'체중': 120, '비율': 0.06},\n",
       " {'체중': 125, '비율': 0.02},\n",
       " {'체중': 130, '비율': 0.01},\n",
       " {'체중': 135, '비율': 0.0}]"
      ]
     },
     "execution_count": 52,
     "metadata": {},
     "output_type": "execute_result"
    }
   ],
   "source": [
    "# index값 넣기\n",
    "male_age = [ 40,  45,  50,  55,  60,  65,  70,  75,  80,  85,  90,  95, 100, 105,\n",
    "       110, 115, 120, 125, 130, 135]\n",
    "male_pct = [ 0.1 ,  0.77,  2.98,  7.13, 13.17, 17.9 , 18.84, 15.15, 10.39,\n",
    "        6.16,  3.49,  1.91,  1.02,  0.51,  0.26,  0.12,  0.06,  0.02,\n",
    "        0.01,  0.00    ]\n",
    "temp_male = []\n",
    "for m, n in zip(male_age, male_pct):\n",
    "    temp_male.append({'체중': m, '비율': n})\n",
    "temp_male"
   ]
  },
  {
   "cell_type": "code",
   "execution_count": 53,
   "metadata": {},
   "outputs": [],
   "source": [
    "def weight_cal(x, y):       # x이상 y미만\n",
    "    if y == 60:\n",
    "        return df_2018[(df_2018['허리둘레'] < y)].groupby('성별코드')['허리둘레'].count()\n",
    "    elif x != 100 and y != 60:\n",
    "        return df_2018[(df_2018['허리둘레'] < y) & (df_2018['허리둘레'] >= x)].groupby('성별코드')['허리둘레'].count()\n",
    "    elif x == 100:\n",
    "        return df_2018[(df_2018['허리둘레'] >= x)].groupby('성별코드')['허리둘레'].count()\n",
    "\n",
    "temp = pd.DataFrame()\n",
    "for x, y in zip(np.arange(55, 101, 5), np.arange(60, 106 ,5)):\n",
    "    temp = pd.concat([temp, weight_cal(x, y).to_frame()], axis=1)\n",
    "temp.columns = ['60미만', '60이상 65미만', '65이상 70미만', '70이상 75미만', '75이상 80미만', '80이상 85미만', '85이상 90미만', '90이상 95미만',\n",
    "                '95이상 100미만', '100이상']"
   ]
  },
  {
   "cell_type": "code",
   "execution_count": 54,
   "metadata": {},
   "outputs": [
    {
     "data": {
      "text/html": [
       "<div>\n",
       "<style scoped>\n",
       "    .dataframe tbody tr th:only-of-type {\n",
       "        vertical-align: middle;\n",
       "    }\n",
       "\n",
       "    .dataframe tbody tr th {\n",
       "        vertical-align: top;\n",
       "    }\n",
       "\n",
       "    .dataframe thead th {\n",
       "        text-align: right;\n",
       "    }\n",
       "</style>\n",
       "<table border=\"1\" class=\"dataframe\">\n",
       "  <thead>\n",
       "    <tr style=\"text-align: right;\">\n",
       "      <th>성별코드</th>\n",
       "      <th>1</th>\n",
       "      <th>2</th>\n",
       "    </tr>\n",
       "  </thead>\n",
       "  <tbody>\n",
       "    <tr>\n",
       "      <th>60미만</th>\n",
       "      <td>136</td>\n",
       "      <td>0</td>\n",
       "    </tr>\n",
       "    <tr>\n",
       "      <th>60이상 65미만</th>\n",
       "      <td>1727</td>\n",
       "      <td>29483</td>\n",
       "    </tr>\n",
       "    <tr>\n",
       "      <th>65이상 70미만</th>\n",
       "      <td>10130</td>\n",
       "      <td>69769</td>\n",
       "    </tr>\n",
       "    <tr>\n",
       "      <th>70이상 75미만</th>\n",
       "      <td>35404</td>\n",
       "      <td>96447</td>\n",
       "    </tr>\n",
       "    <tr>\n",
       "      <th>75이상 80미만</th>\n",
       "      <td>78816</td>\n",
       "      <td>93417</td>\n",
       "    </tr>\n",
       "    <tr>\n",
       "      <th>80이상 85미만</th>\n",
       "      <td>129975</td>\n",
       "      <td>78214</td>\n",
       "    </tr>\n",
       "    <tr>\n",
       "      <th>85이상 90미만</th>\n",
       "      <td>126769</td>\n",
       "      <td>48607</td>\n",
       "    </tr>\n",
       "    <tr>\n",
       "      <th>90이상 95미만</th>\n",
       "      <td>84197</td>\n",
       "      <td>25628</td>\n",
       "    </tr>\n",
       "    <tr>\n",
       "      <th>95이상 100미만</th>\n",
       "      <td>41703</td>\n",
       "      <td>11194</td>\n",
       "    </tr>\n",
       "    <tr>\n",
       "      <th>100이상</th>\n",
       "      <td>26715</td>\n",
       "      <td>6535</td>\n",
       "    </tr>\n",
       "  </tbody>\n",
       "</table>\n",
       "</div>"
      ],
      "text/plain": [
       "성별코드             1      2\n",
       "60미만           136      0\n",
       "60이상 65미만     1727  29483\n",
       "65이상 70미만    10130  69769\n",
       "70이상 75미만    35404  96447\n",
       "75이상 80미만    78816  93417\n",
       "80이상 85미만   129975  78214\n",
       "85이상 90미만   126769  48607\n",
       "90이상 95미만    84197  25628\n",
       "95이상 100미만   41703  11194\n",
       "100이상        26715   6535"
      ]
     },
     "execution_count": 54,
     "metadata": {},
     "output_type": "execute_result"
    }
   ],
   "source": [
    "temp.iloc[1, 0] = 0\n",
    "temp.T "
   ]
  },
  {
   "cell_type": "code",
   "execution_count": 55,
   "metadata": {},
   "outputs": [
    {
     "name": "stdout",
     "output_type": "stream",
     "text": [
      "     60미만  60이상 65미만  65이상 70미만  70이상 75미만  75이상 80미만  80이상 85미만  85이상 90미만   \n",
      "0   136.0     1727.0    10130.0    35404.0    78816.0   129975.0   126769.0  \\\n",
      "1     0.0    29483.0    69769.0    96447.0    93417.0    78214.0    48607.0   \n",
      "2     NaN        NaN        NaN        NaN        NaN        NaN        NaN   \n",
      "3     NaN        NaN        NaN        NaN        NaN        NaN        NaN   \n",
      "4     NaN        NaN        NaN        NaN        NaN        NaN        NaN   \n",
      "5     NaN        NaN        NaN        NaN        NaN        NaN        NaN   \n",
      "6     NaN        NaN        NaN        NaN        NaN        NaN        NaN   \n",
      "7     NaN        NaN        NaN        NaN        NaN        NaN        NaN   \n",
      "8     NaN        NaN        NaN        NaN        NaN        NaN        NaN   \n",
      "9     NaN        NaN        NaN        NaN        NaN        NaN        NaN   \n",
      "10    NaN        NaN        NaN        NaN        NaN        NaN        NaN   \n",
      "11    NaN        NaN        NaN        NaN        NaN        NaN        NaN   \n",
      "\n",
      "    90이상 95미만  95이상 100미만    100이상         범위       개수     비율  \n",
      "0     84197.0     41703.0  26715.0        NaN      NaN    NaN  \n",
      "1     25628.0     11194.0   6535.0        NaN      NaN    NaN  \n",
      "2         NaN         NaN      NaN       0-60   4720.0   1.02  \n",
      "3         NaN         NaN      NaN      60-65  29483.0   6.35  \n",
      "4         NaN         NaN      NaN      65-70  69769.0  15.04  \n",
      "5         NaN         NaN      NaN      70-75  96447.0  20.79  \n",
      "6         NaN         NaN      NaN      75-80  93417.0  20.13  \n",
      "7         NaN         NaN      NaN      80-85  78214.0  16.86  \n",
      "8         NaN         NaN      NaN      85-90  48607.0  10.48  \n",
      "9         NaN         NaN      NaN      90-95  25628.0   5.52  \n",
      "10        NaN         NaN      NaN     95-100  11194.0   2.41  \n",
      "11        NaN         NaN      NaN  100-10000   6535.0   1.41  \n"
     ]
    }
   ],
   "source": [
    "import pandas as pd\n",
    "import numpy as np\n",
    "\n",
    "def 허리둘레_cal(x, y):\n",
    "    if y == 60:\n",
    "        return df_2018[(df_2018['허리둘레'] < y)&(df_2018['성별코드']==2)]['허리둘레'].count()\n",
    "    elif x != 100 and y != 60:\n",
    "        return df_2018[(df_2018['허리둘레'] < y)&(df_2018['성별코드']==2) & (df_2018['허리둘레'] >= x)]['허리둘레'].count()\n",
    "    elif x == 100:\n",
    "        return df_2018[(df_2018['허리둘레'] >= x)&(df_2018['성별코드']==2)]['허리둘레'].count()\n",
    "\n",
    "# temp = pd.DataFrame()\n",
    "for x, y in zip([0 , *np.arange(60, 101, 5)], [*np.arange(60, 101, 5), 10000]):\n",
    "   temp = pd.concat([temp, pd.DataFrame({'범위': f'{x}-{y}', '개수': 허리둘레_cal(x, y)}, index=[0])], ignore_index=True)\n",
    "\n",
    "total_count = temp['개수'].sum()\n",
    "temp['비율'] = (temp['개수'] / total_count) * 100\n",
    "temp = temp.round(2)\n",
    "\n",
    "print(temp)\n"
   ]
  },
  {
   "cell_type": "code",
   "execution_count": 58,
   "metadata": {},
   "outputs": [
    {
     "data": {
      "text/plain": [
       "Index([1.02, 6.35, 15.04, 20.79, 20.13, 16.86, 10.48, 5.52, 2.41, 1.41], dtype='float64', name='비율')"
      ]
     },
     "execution_count": 58,
     "metadata": {},
     "output_type": "execute_result"
    }
   ],
   "source": [
    "male=temp['비율'].value_counts()\n",
    "male.index"
   ]
  },
  {
   "cell_type": "code",
   "execution_count": 59,
   "metadata": {},
   "outputs": [
    {
     "data": {
      "text/plain": [
       "[{'waist': '0-60', '비율': 1.02},\n",
       " {'waist': '60-65', '비율': 6.35},\n",
       " {'waist': '65-70', '비율': 15.04},\n",
       " {'waist': '70-75', '비율': 20.79},\n",
       " {'waist': '75-80', '비율': 20.13},\n",
       " {'waist': '80-85', '비율': 16.86},\n",
       " {'waist': '85-90', '비율': 10.48},\n",
       " {'waist': '90-95', '비율': 5.52},\n",
       " {'waist': '95-100', '비율': 2.41},\n",
       " {'waist': '100-10000', '비율': 1.41}]"
      ]
     },
     "execution_count": 59,
     "metadata": {},
     "output_type": "execute_result"
    }
   ],
   "source": [
    "# index값 넣기\n",
    "male_age = ['0-60', '60-65', '65-70', '70-75', '75-80', '80-85', '85-90', '90-95',\n",
    "       '95-100', '100-10000']\n",
    "male_pct = [1.02, 6.35, 15.04, 20.79, 20.13, 16.86, 10.48, 5.52, 2.41, 1.41]\n",
    "temp_male = [] \n",
    "for m, n in zip(male_age, male_pct):\n",
    "    temp_male.append({'waist': m, '비율': n})\n",
    "temp_male"
   ]
  },
  {
   "attachments": {},
   "cell_type": "markdown",
   "metadata": {},
   "source": [
    "- 평균 허리둘레 구하기"
   ]
  },
  {
   "cell_type": "code",
   "execution_count": 60,
   "metadata": {},
   "outputs": [
    {
     "data": {
      "text/html": [
       "<div>\n",
       "<style scoped>\n",
       "    .dataframe tbody tr th:only-of-type {\n",
       "        vertical-align: middle;\n",
       "    }\n",
       "\n",
       "    .dataframe tbody tr th {\n",
       "        vertical-align: top;\n",
       "    }\n",
       "\n",
       "    .dataframe thead th {\n",
       "        text-align: right;\n",
       "    }\n",
       "</style>\n",
       "<table border=\"1\" class=\"dataframe\">\n",
       "  <thead>\n",
       "    <tr style=\"text-align: right;\">\n",
       "      <th></th>\n",
       "      <th>기준년도</th>\n",
       "      <th>가입자일련번호</th>\n",
       "      <th>성별코드</th>\n",
       "      <th>연령대코드(5세단위)</th>\n",
       "      <th>시도코드</th>\n",
       "      <th>신장(5Cm단위)</th>\n",
       "      <th>체중(5Kg단위)</th>\n",
       "      <th>허리둘레</th>\n",
       "      <th>시력(좌)</th>\n",
       "      <th>시력(우)</th>\n",
       "      <th>...</th>\n",
       "      <th>감마지티피</th>\n",
       "      <th>흡연상태</th>\n",
       "      <th>음주여부</th>\n",
       "      <th>구강검진수검여부</th>\n",
       "      <th>치아우식증유무</th>\n",
       "      <th>결손치유무</th>\n",
       "      <th>치아마모증유무</th>\n",
       "      <th>제3대구치(사랑니)이상</th>\n",
       "      <th>치석</th>\n",
       "      <th>데이터공개일자</th>\n",
       "    </tr>\n",
       "  </thead>\n",
       "  <tbody>\n",
       "    <tr>\n",
       "      <th>0</th>\n",
       "      <td>2018</td>\n",
       "      <td>1</td>\n",
       "      <td>2</td>\n",
       "      <td>7</td>\n",
       "      <td>48</td>\n",
       "      <td>160</td>\n",
       "      <td>60</td>\n",
       "      <td>79.5</td>\n",
       "      <td>1.5</td>\n",
       "      <td>1.5</td>\n",
       "      <td>...</td>\n",
       "      <td>12.0</td>\n",
       "      <td>1.0</td>\n",
       "      <td>NaN</td>\n",
       "      <td>N</td>\n",
       "      <td>NaN</td>\n",
       "      <td>NaN</td>\n",
       "      <td>NaN</td>\n",
       "      <td>NaN</td>\n",
       "      <td>NaN</td>\n",
       "      <td>2019-12-19</td>\n",
       "    </tr>\n",
       "    <tr>\n",
       "      <th>1</th>\n",
       "      <td>2018</td>\n",
       "      <td>2</td>\n",
       "      <td>1</td>\n",
       "      <td>6</td>\n",
       "      <td>26</td>\n",
       "      <td>170</td>\n",
       "      <td>55</td>\n",
       "      <td>69.3</td>\n",
       "      <td>1.2</td>\n",
       "      <td>0.8</td>\n",
       "      <td>...</td>\n",
       "      <td>47.0</td>\n",
       "      <td>1.0</td>\n",
       "      <td>Y</td>\n",
       "      <td>Y</td>\n",
       "      <td>0.0</td>\n",
       "      <td>NaN</td>\n",
       "      <td>NaN</td>\n",
       "      <td>NaN</td>\n",
       "      <td>N</td>\n",
       "      <td>2019-12-19</td>\n",
       "    </tr>\n",
       "  </tbody>\n",
       "</table>\n",
       "<p>2 rows × 34 columns</p>\n",
       "</div>"
      ],
      "text/plain": [
       "   기준년도  가입자일련번호  성별코드  연령대코드(5세단위)  시도코드  신장(5Cm단위)  체중(5Kg단위)  허리둘레  시력(좌)   \n",
       "0  2018        1     2            7    48        160         60  79.5    1.5  \\\n",
       "1  2018        2     1            6    26        170         55  69.3    1.2   \n",
       "\n",
       "   시력(우)  ...  감마지티피  흡연상태  음주여부  구강검진수검여부  치아우식증유무  결손치유무  치아마모증유무   \n",
       "0    1.5  ...   12.0   1.0   NaN         N      NaN    NaN      NaN  \\\n",
       "1    0.8  ...   47.0   1.0     Y         Y      0.0    NaN      NaN   \n",
       "\n",
       "   제3대구치(사랑니)이상   치석     데이터공개일자  \n",
       "0           NaN  NaN  2019-12-19  \n",
       "1           NaN    N  2019-12-19  \n",
       "\n",
       "[2 rows x 34 columns]"
      ]
     },
     "execution_count": 60,
     "metadata": {},
     "output_type": "execute_result"
    }
   ],
   "source": [
    "df_2018 = pd.read_csv('../01.웹/data_건강/건강검진정보_2018.csv', encoding='euc-kr')\n",
    "df_2018.head(2)"
   ]
  },
  {
   "cell_type": "code",
   "execution_count": 61,
   "metadata": {},
   "outputs": [
    {
     "data": {
      "text/html": [
       "<div>\n",
       "<style scoped>\n",
       "    .dataframe tbody tr th:only-of-type {\n",
       "        vertical-align: middle;\n",
       "    }\n",
       "\n",
       "    .dataframe tbody tr th {\n",
       "        vertical-align: top;\n",
       "    }\n",
       "\n",
       "    .dataframe thead th {\n",
       "        text-align: right;\n",
       "    }\n",
       "</style>\n",
       "<table border=\"1\" class=\"dataframe\">\n",
       "  <thead>\n",
       "    <tr style=\"text-align: right;\">\n",
       "      <th></th>\n",
       "      <th></th>\n",
       "      <th>허리둘레</th>\n",
       "    </tr>\n",
       "    <tr>\n",
       "      <th>연령대코드(5세단위)</th>\n",
       "      <th>성별코드</th>\n",
       "      <th></th>\n",
       "    </tr>\n",
       "  </thead>\n",
       "  <tbody>\n",
       "    <tr>\n",
       "      <th rowspan=\"2\" valign=\"top\">5</th>\n",
       "      <th>1</th>\n",
       "      <td>772725.0</td>\n",
       "    </tr>\n",
       "    <tr>\n",
       "      <th>2</th>\n",
       "      <td>828988.3</td>\n",
       "    </tr>\n",
       "    <tr>\n",
       "      <th>6</th>\n",
       "      <th>1</th>\n",
       "      <td>2963508.7</td>\n",
       "    </tr>\n",
       "  </tbody>\n",
       "</table>\n",
       "</div>"
      ],
      "text/plain": [
       "                       허리둘레\n",
       "연령대코드(5세단위) 성별코드           \n",
       "5           1      772725.0\n",
       "            2      828988.3\n",
       "6           1     2963508.7"
      ]
     },
     "execution_count": 61,
     "metadata": {},
     "output_type": "execute_result"
    }
   ],
   "source": [
    "df_BMI_2018=df_2018.groupby(['연령대코드(5세단위)','성별코드'])['허리둘레'].sum().round(1)\n",
    "df_BMI_2018=pd.DataFrame(df_BMI_2018)\n",
    "df_BMI_2018.head(3)"
   ]
  },
  {
   "cell_type": "code",
   "execution_count": 62,
   "metadata": {},
   "outputs": [
    {
     "data": {
      "text/html": [
       "<div>\n",
       "<style scoped>\n",
       "    .dataframe tbody tr th:only-of-type {\n",
       "        vertical-align: middle;\n",
       "    }\n",
       "\n",
       "    .dataframe tbody tr th {\n",
       "        vertical-align: top;\n",
       "    }\n",
       "\n",
       "    .dataframe thead th {\n",
       "        text-align: right;\n",
       "    }\n",
       "</style>\n",
       "<table border=\"1\" class=\"dataframe\">\n",
       "  <thead>\n",
       "    <tr style=\"text-align: right;\">\n",
       "      <th></th>\n",
       "      <th></th>\n",
       "      <th>연령대코드(5세단위)</th>\n",
       "    </tr>\n",
       "    <tr>\n",
       "      <th>연령대코드(5세단위)</th>\n",
       "      <th>성별코드</th>\n",
       "      <th></th>\n",
       "    </tr>\n",
       "  </thead>\n",
       "  <tbody>\n",
       "    <tr>\n",
       "      <th rowspan=\"2\" valign=\"top\">5</th>\n",
       "      <th>1</th>\n",
       "      <td>9619</td>\n",
       "    </tr>\n",
       "    <tr>\n",
       "      <th>2</th>\n",
       "      <td>11732</td>\n",
       "    </tr>\n",
       "  </tbody>\n",
       "</table>\n",
       "</div>"
      ],
      "text/plain": [
       "                  연령대코드(5세단위)\n",
       "연령대코드(5세단위) 성별코드             \n",
       "5           1            9619\n",
       "            2           11732"
      ]
     },
     "execution_count": 62,
     "metadata": {},
     "output_type": "execute_result"
    }
   ],
   "source": [
    "# 각연령대 인원\n",
    "df_age_2018=df_2018.groupby(['연령대코드(5세단위)','성별코드'])['연령대코드(5세단위)'].count().round(1)\n",
    "df_age_2018=pd.DataFrame(df_age_2018)\n",
    "df_age_2018.head(2)"
   ]
  },
  {
   "cell_type": "code",
   "execution_count": 63,
   "metadata": {},
   "outputs": [
    {
     "data": {
      "text/html": [
       "<div>\n",
       "<style scoped>\n",
       "    .dataframe tbody tr th:only-of-type {\n",
       "        vertical-align: middle;\n",
       "    }\n",
       "\n",
       "    .dataframe tbody tr th {\n",
       "        vertical-align: top;\n",
       "    }\n",
       "\n",
       "    .dataframe thead th {\n",
       "        text-align: right;\n",
       "    }\n",
       "</style>\n",
       "<table border=\"1\" class=\"dataframe\">\n",
       "  <thead>\n",
       "    <tr style=\"text-align: right;\">\n",
       "      <th></th>\n",
       "      <th></th>\n",
       "      <th>허리둘레</th>\n",
       "      <th>연령대코드(5세단위)</th>\n",
       "    </tr>\n",
       "    <tr>\n",
       "      <th>연령대코드(5세단위)</th>\n",
       "      <th>성별코드</th>\n",
       "      <th></th>\n",
       "      <th></th>\n",
       "    </tr>\n",
       "  </thead>\n",
       "  <tbody>\n",
       "    <tr>\n",
       "      <th rowspan=\"2\" valign=\"top\">5</th>\n",
       "      <th>1</th>\n",
       "      <td>772725.0</td>\n",
       "      <td>9619</td>\n",
       "    </tr>\n",
       "    <tr>\n",
       "      <th>2</th>\n",
       "      <td>828988.3</td>\n",
       "      <td>11732</td>\n",
       "    </tr>\n",
       "  </tbody>\n",
       "</table>\n",
       "</div>"
      ],
      "text/plain": [
       "                      허리둘레  연령대코드(5세단위)\n",
       "연령대코드(5세단위) 성별코드                       \n",
       "5           1     772725.0         9619\n",
       "            2     828988.3        11732"
      ]
     },
     "execution_count": 63,
     "metadata": {},
     "output_type": "execute_result"
    }
   ],
   "source": [
    "df_last = pd.concat([df_BMI_2018,df_age_2018], axis=1)\n",
    "df_last.head(2)"
   ]
  },
  {
   "cell_type": "code",
   "execution_count": 65,
   "metadata": {},
   "outputs": [
    {
     "ename": "ValueError",
     "evalue": "cannot insert 연령대코드(5세단위), already exists",
     "output_type": "error",
     "traceback": [
      "\u001b[1;31m---------------------------------------------------------------------------\u001b[0m",
      "\u001b[1;31mValueError\u001b[0m                                Traceback (most recent call last)",
      "Cell \u001b[1;32mIn[65], line 1\u001b[0m\n\u001b[1;32m----> 1\u001b[0m df_last\u001b[39m.\u001b[39;49mreset_index(inplace\u001b[39m=\u001b[39;49m\u001b[39mTrue\u001b[39;49;00m)\n",
      "File \u001b[1;32mc:\\Users\\YONSAI\\anaconda3\\lib\\site-packages\\pandas\\core\\frame.py:6217\u001b[0m, in \u001b[0;36mDataFrame.reset_index\u001b[1;34m(self, level, drop, inplace, col_level, col_fill, allow_duplicates, names)\u001b[0m\n\u001b[0;32m   6211\u001b[0m         \u001b[39mif\u001b[39;00m lab \u001b[39mis\u001b[39;00m \u001b[39mnot\u001b[39;00m \u001b[39mNone\u001b[39;00m:\n\u001b[0;32m   6212\u001b[0m             \u001b[39m# if we have the codes, extract the values with a mask\u001b[39;00m\n\u001b[0;32m   6213\u001b[0m             level_values \u001b[39m=\u001b[39m algorithms\u001b[39m.\u001b[39mtake(\n\u001b[0;32m   6214\u001b[0m                 level_values, lab, allow_fill\u001b[39m=\u001b[39m\u001b[39mTrue\u001b[39;00m, fill_value\u001b[39m=\u001b[39mlev\u001b[39m.\u001b[39m_na_value\n\u001b[0;32m   6215\u001b[0m             )\n\u001b[1;32m-> 6217\u001b[0m         new_obj\u001b[39m.\u001b[39;49minsert(\n\u001b[0;32m   6218\u001b[0m             \u001b[39m0\u001b[39;49m,\n\u001b[0;32m   6219\u001b[0m             name,\n\u001b[0;32m   6220\u001b[0m             level_values,\n\u001b[0;32m   6221\u001b[0m             allow_duplicates\u001b[39m=\u001b[39;49mallow_duplicates,\n\u001b[0;32m   6222\u001b[0m         )\n\u001b[0;32m   6224\u001b[0m new_obj\u001b[39m.\u001b[39mindex \u001b[39m=\u001b[39m new_index\n\u001b[0;32m   6225\u001b[0m \u001b[39mif\u001b[39;00m \u001b[39mnot\u001b[39;00m inplace:\n",
      "File \u001b[1;32mc:\\Users\\YONSAI\\anaconda3\\lib\\site-packages\\pandas\\core\\frame.py:4780\u001b[0m, in \u001b[0;36mDataFrame.insert\u001b[1;34m(self, loc, column, value, allow_duplicates)\u001b[0m\n\u001b[0;32m   4774\u001b[0m     \u001b[39mraise\u001b[39;00m \u001b[39mValueError\u001b[39;00m(\n\u001b[0;32m   4775\u001b[0m         \u001b[39m\"\u001b[39m\u001b[39mCannot specify \u001b[39m\u001b[39m'\u001b[39m\u001b[39mallow_duplicates=True\u001b[39m\u001b[39m'\u001b[39m\u001b[39m when \u001b[39m\u001b[39m\"\u001b[39m\n\u001b[0;32m   4776\u001b[0m         \u001b[39m\"\u001b[39m\u001b[39m'\u001b[39m\u001b[39mself.flags.allows_duplicate_labels\u001b[39m\u001b[39m'\u001b[39m\u001b[39m is False.\u001b[39m\u001b[39m\"\u001b[39m\n\u001b[0;32m   4777\u001b[0m     )\n\u001b[0;32m   4778\u001b[0m \u001b[39mif\u001b[39;00m \u001b[39mnot\u001b[39;00m allow_duplicates \u001b[39mand\u001b[39;00m column \u001b[39min\u001b[39;00m \u001b[39mself\u001b[39m\u001b[39m.\u001b[39mcolumns:\n\u001b[0;32m   4779\u001b[0m     \u001b[39m# Should this be a different kind of error??\u001b[39;00m\n\u001b[1;32m-> 4780\u001b[0m     \u001b[39mraise\u001b[39;00m \u001b[39mValueError\u001b[39;00m(\u001b[39mf\u001b[39m\u001b[39m\"\u001b[39m\u001b[39mcannot insert \u001b[39m\u001b[39m{\u001b[39;00mcolumn\u001b[39m}\u001b[39;00m\u001b[39m, already exists\u001b[39m\u001b[39m\"\u001b[39m)\n\u001b[0;32m   4781\u001b[0m \u001b[39mif\u001b[39;00m \u001b[39mnot\u001b[39;00m \u001b[39misinstance\u001b[39m(loc, \u001b[39mint\u001b[39m):\n\u001b[0;32m   4782\u001b[0m     \u001b[39mraise\u001b[39;00m \u001b[39mTypeError\u001b[39;00m(\u001b[39m\"\u001b[39m\u001b[39mloc must be int\u001b[39m\u001b[39m\"\u001b[39m)\n",
      "\u001b[1;31mValueError\u001b[0m: cannot insert 연령대코드(5세단위), already exists"
     ]
    }
   ],
   "source": [
    "df_last.reset_index(inplace=True)"
   ]
  },
  {
   "cell_type": "code",
   "execution_count": 67,
   "metadata": {},
   "outputs": [
    {
     "data": {
      "text/html": [
       "<div>\n",
       "<style scoped>\n",
       "    .dataframe tbody tr th:only-of-type {\n",
       "        vertical-align: middle;\n",
       "    }\n",
       "\n",
       "    .dataframe tbody tr th {\n",
       "        vertical-align: top;\n",
       "    }\n",
       "\n",
       "    .dataframe thead th {\n",
       "        text-align: right;\n",
       "    }\n",
       "</style>\n",
       "<table border=\"1\" class=\"dataframe\">\n",
       "  <thead>\n",
       "    <tr style=\"text-align: right;\">\n",
       "      <th></th>\n",
       "      <th></th>\n",
       "      <th>성별코드</th>\n",
       "      <th>허리둘레</th>\n",
       "      <th>연령대코드(5세단위)</th>\n",
       "      <th>평균 허리둘레</th>\n",
       "    </tr>\n",
       "    <tr>\n",
       "      <th>연령대코드(5세단위)</th>\n",
       "      <th>성별코드</th>\n",
       "      <th></th>\n",
       "      <th></th>\n",
       "      <th></th>\n",
       "      <th></th>\n",
       "    </tr>\n",
       "  </thead>\n",
       "  <tbody>\n",
       "    <tr>\n",
       "      <th rowspan=\"2\" valign=\"top\">5</th>\n",
       "      <th>1</th>\n",
       "      <td>1</td>\n",
       "      <td>772725.0</td>\n",
       "      <td>9619</td>\n",
       "      <td>80.33</td>\n",
       "    </tr>\n",
       "    <tr>\n",
       "      <th>2</th>\n",
       "      <td>2</td>\n",
       "      <td>828988.3</td>\n",
       "      <td>11732</td>\n",
       "      <td>70.66</td>\n",
       "    </tr>\n",
       "    <tr>\n",
       "      <th>6</th>\n",
       "      <th>1</th>\n",
       "      <td>1</td>\n",
       "      <td>2963508.7</td>\n",
       "      <td>35523</td>\n",
       "      <td>83.43</td>\n",
       "    </tr>\n",
       "  </tbody>\n",
       "</table>\n",
       "</div>"
      ],
      "text/plain": [
       "                  성별코드       허리둘레  연령대코드(5세단위)  평균 허리둘레\n",
       "연령대코드(5세단위) 성별코드                                       \n",
       "5           1        1   772725.0         9619    80.33\n",
       "            2        2   828988.3        11732    70.66\n",
       "6           1        1  2963508.7        35523    83.43"
      ]
     },
     "execution_count": 67,
     "metadata": {},
     "output_type": "execute_result"
    }
   ],
   "source": [
    "last=(df_last['허리둘레']/df_last['연령대코드(5세단위)']).round(2)\n",
    "df_last['평균 허리둘레'] =last\n",
    "df_last.head(3)"
   ]
  },
  {
   "cell_type": "code",
   "execution_count": 70,
   "metadata": {},
   "outputs": [
    {
     "name": "stdout",
     "output_type": "stream",
     "text": [
      "[80.33, 83.43, 85.49, 86.09, 85.76, 85.44, 85.3, 85.28, 85.64, 85.75, 86.03, 85.83, 85.24, 83.59]\n"
     ]
    }
   ],
   "source": [
    "filtered_data = df_last[df_last['성별코드'] == 1]['평균 허리둘레'].values\n",
    "list =[]\n",
    "for height in filtered_data:\n",
    "    list.append(height)\n",
    "print(list)\n"
   ]
  },
  {
   "cell_type": "code",
   "execution_count": 71,
   "metadata": {},
   "outputs": [
    {
     "data": {
      "text/plain": [
       "[{'나이': '20~24세', '평균허리둘레': 80.33},\n",
       " {'나이': '25~29세', '평균허리둘레': 83.43},\n",
       " {'나이': '30~34세', '평균허리둘레': 85.49},\n",
       " {'나이': '35~39세', '평균허리둘레': 86.09},\n",
       " {'나이': '40~44세', '평균허리둘레': 85.76},\n",
       " {'나이': '45~49세', '평균허리둘레': 85.44},\n",
       " {'나이': '50~54세', '평균허리둘레': 85.3},\n",
       " {'나이': '55~59세', '평균허리둘레': 85.28},\n",
       " {'나이': '60~64세', '평균허리둘레': 85.64},\n",
       " {'나이': '65~69세', '평균허리둘레': 85.75},\n",
       " {'나이': '70~74세', '평균허리둘레': 86.03},\n",
       " {'나이': '75~79세', '평균허리둘레': 85.83},\n",
       " {'나이': '80~84세', '평균허리둘레': 85.24},\n",
       " {'나이': '85세+', '평균허리둘레': 83.59}]"
      ]
     },
     "execution_count": 71,
     "metadata": {},
     "output_type": "execute_result"
    }
   ],
   "source": [
    "male_age = [ '20~24세', '25~29세', '30~34세', '35~39세', '40~44세', '45~49세', '50~54세', '55~59세',\n",
    "'60~64세', '65~69세', '70~74세', '75~79세','80~84세', '85세+']\n",
    "male_pct = [80.33, 83.43, 85.49, 86.09, 85.76, 85.44, 85.3, 85.28, 85.64, 85.75, 86.03, 85.83, 85.24, 83.59]\n",
    "temp_male = []\n",
    "for m, n in zip(male_age, male_pct):\n",
    "    temp_male.append({'나이': m, '평균허리둘레': n})\n",
    "temp_male"
   ]
  },
  {
   "cell_type": "code",
   "execution_count": null,
   "metadata": {},
   "outputs": [],
   "source": []
  }
 ],
 "metadata": {
  "kernelspec": {
   "display_name": "base",
   "language": "python",
   "name": "python3"
  },
  "language_info": {
   "codemirror_mode": {
    "name": "ipython",
    "version": 3
   },
   "file_extension": ".py",
   "mimetype": "text/x-python",
   "name": "python",
   "nbconvert_exporter": "python",
   "pygments_lexer": "ipython3",
   "version": "3.10.10"
  },
  "orig_nbformat": 4
 },
 "nbformat": 4,
 "nbformat_minor": 2
}

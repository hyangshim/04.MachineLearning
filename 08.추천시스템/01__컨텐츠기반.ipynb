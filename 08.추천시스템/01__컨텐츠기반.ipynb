{
  "nbformat": 4,
  "nbformat_minor": 0,
  "metadata": {
    "colab": {
      "provenance": []
    },
    "kernelspec": {
      "name": "python3",
      "display_name": "Python 3"
    },
    "language_info": {
      "name": "python"
    }
  },
  "cells": [
    {
      "cell_type": "markdown",
      "source": [
        "#### 컨텐츠 기반 필터링(Conents-based filtering)"
      ],
      "metadata": {
        "id": "0cLhj1uc-X4j"
      }
    },
    {
      "cell_type": "code",
      "execution_count": 1,
      "metadata": {
        "colab": {
          "base_uri": "https://localhost:8080/"
        },
        "id": "Q9_OpgH57o0x",
        "outputId": "2d319d7c-e8d2-4bb4-a9c7-6845df86449c"
      },
      "outputs": [
        {
          "output_type": "stream",
          "name": "stdout",
          "text": [
            "Looking in indexes: https://pypi.org/simple, https://us-python.pkg.dev/colab-wheels/public/simple/\n",
            "Requirement already satisfied: scikit-surprise in /usr/local/lib/python3.10/dist-packages (1.1.3)\n",
            "Requirement already satisfied: joblib>=1.0.0 in /usr/local/lib/python3.10/dist-packages (from scikit-surprise) (1.2.0)\n",
            "Requirement already satisfied: numpy>=1.17.3 in /usr/local/lib/python3.10/dist-packages (from scikit-surprise) (1.22.4)\n",
            "Requirement already satisfied: scipy>=1.3.2 in /usr/local/lib/python3.10/dist-packages (from scikit-surprise) (1.10.1)\n"
          ]
        }
      ],
      "source": [
        "# 라이브러리 설치\n",
        "!pip install scikit-surprise"
      ]
    },
    {
      "cell_type": "code",
      "source": [
        "import numpy as np\n",
        "import pandas as pd\n",
        "from surprise import Dataset"
      ],
      "metadata": {
        "id": "DFh7e9Qh-zET"
      },
      "execution_count": 2,
      "outputs": []
    },
    {
      "cell_type": "code",
      "source": [
        "data =Dataset.load_builtin('ml-100k',prompt =False)\n",
        "df =pd.DataFrame(data.raw_ratings,columns=['user-id','movie-id','rating','timestamp'])\n",
        "df.head()"
      ],
      "metadata": {
        "colab": {
          "base_uri": "https://localhost:8080/",
          "height": 206
        },
        "id": "Db5cd00j_Vkb",
        "outputId": "2277d0ff-a2fb-4146-acc6-66b4b5cb4d16"
      },
      "execution_count": 3,
      "outputs": [
        {
          "output_type": "execute_result",
          "data": {
            "text/plain": [
              "  user-id movie-id  rating  timestamp\n",
              "0     196      242     3.0  881250949\n",
              "1     186      302     3.0  891717742\n",
              "2      22      377     1.0  878887116\n",
              "3     244       51     2.0  880606923\n",
              "4     166      346     1.0  886397596"
            ],
            "text/html": [
              "\n",
              "  <div id=\"df-e5bfbfde-9e14-425a-91c1-461c3fc16d66\">\n",
              "    <div class=\"colab-df-container\">\n",
              "      <div>\n",
              "<style scoped>\n",
              "    .dataframe tbody tr th:only-of-type {\n",
              "        vertical-align: middle;\n",
              "    }\n",
              "\n",
              "    .dataframe tbody tr th {\n",
              "        vertical-align: top;\n",
              "    }\n",
              "\n",
              "    .dataframe thead th {\n",
              "        text-align: right;\n",
              "    }\n",
              "</style>\n",
              "<table border=\"1\" class=\"dataframe\">\n",
              "  <thead>\n",
              "    <tr style=\"text-align: right;\">\n",
              "      <th></th>\n",
              "      <th>user-id</th>\n",
              "      <th>movie-id</th>\n",
              "      <th>rating</th>\n",
              "      <th>timestamp</th>\n",
              "    </tr>\n",
              "  </thead>\n",
              "  <tbody>\n",
              "    <tr>\n",
              "      <th>0</th>\n",
              "      <td>196</td>\n",
              "      <td>242</td>\n",
              "      <td>3.0</td>\n",
              "      <td>881250949</td>\n",
              "    </tr>\n",
              "    <tr>\n",
              "      <th>1</th>\n",
              "      <td>186</td>\n",
              "      <td>302</td>\n",
              "      <td>3.0</td>\n",
              "      <td>891717742</td>\n",
              "    </tr>\n",
              "    <tr>\n",
              "      <th>2</th>\n",
              "      <td>22</td>\n",
              "      <td>377</td>\n",
              "      <td>1.0</td>\n",
              "      <td>878887116</td>\n",
              "    </tr>\n",
              "    <tr>\n",
              "      <th>3</th>\n",
              "      <td>244</td>\n",
              "      <td>51</td>\n",
              "      <td>2.0</td>\n",
              "      <td>880606923</td>\n",
              "    </tr>\n",
              "    <tr>\n",
              "      <th>4</th>\n",
              "      <td>166</td>\n",
              "      <td>346</td>\n",
              "      <td>1.0</td>\n",
              "      <td>886397596</td>\n",
              "    </tr>\n",
              "  </tbody>\n",
              "</table>\n",
              "</div>\n",
              "      <button class=\"colab-df-convert\" onclick=\"convertToInteractive('df-e5bfbfde-9e14-425a-91c1-461c3fc16d66')\"\n",
              "              title=\"Convert this dataframe to an interactive table.\"\n",
              "              style=\"display:none;\">\n",
              "        \n",
              "  <svg xmlns=\"http://www.w3.org/2000/svg\" height=\"24px\"viewBox=\"0 0 24 24\"\n",
              "       width=\"24px\">\n",
              "    <path d=\"M0 0h24v24H0V0z\" fill=\"none\"/>\n",
              "    <path d=\"M18.56 5.44l.94 2.06.94-2.06 2.06-.94-2.06-.94-.94-2.06-.94 2.06-2.06.94zm-11 1L8.5 8.5l.94-2.06 2.06-.94-2.06-.94L8.5 2.5l-.94 2.06-2.06.94zm10 10l.94 2.06.94-2.06 2.06-.94-2.06-.94-.94-2.06-.94 2.06-2.06.94z\"/><path d=\"M17.41 7.96l-1.37-1.37c-.4-.4-.92-.59-1.43-.59-.52 0-1.04.2-1.43.59L10.3 9.45l-7.72 7.72c-.78.78-.78 2.05 0 2.83L4 21.41c.39.39.9.59 1.41.59.51 0 1.02-.2 1.41-.59l7.78-7.78 2.81-2.81c.8-.78.8-2.07 0-2.86zM5.41 20L4 18.59l7.72-7.72 1.47 1.35L5.41 20z\"/>\n",
              "  </svg>\n",
              "      </button>\n",
              "      \n",
              "  <style>\n",
              "    .colab-df-container {\n",
              "      display:flex;\n",
              "      flex-wrap:wrap;\n",
              "      gap: 12px;\n",
              "    }\n",
              "\n",
              "    .colab-df-convert {\n",
              "      background-color: #E8F0FE;\n",
              "      border: none;\n",
              "      border-radius: 50%;\n",
              "      cursor: pointer;\n",
              "      display: none;\n",
              "      fill: #1967D2;\n",
              "      height: 32px;\n",
              "      padding: 0 0 0 0;\n",
              "      width: 32px;\n",
              "    }\n",
              "\n",
              "    .colab-df-convert:hover {\n",
              "      background-color: #E2EBFA;\n",
              "      box-shadow: 0px 1px 2px rgba(60, 64, 67, 0.3), 0px 1px 3px 1px rgba(60, 64, 67, 0.15);\n",
              "      fill: #174EA6;\n",
              "    }\n",
              "\n",
              "    [theme=dark] .colab-df-convert {\n",
              "      background-color: #3B4455;\n",
              "      fill: #D2E3FC;\n",
              "    }\n",
              "\n",
              "    [theme=dark] .colab-df-convert:hover {\n",
              "      background-color: #434B5C;\n",
              "      box-shadow: 0px 1px 3px 1px rgba(0, 0, 0, 0.15);\n",
              "      filter: drop-shadow(0px 1px 2px rgba(0, 0, 0, 0.3));\n",
              "      fill: #FFFFFF;\n",
              "    }\n",
              "  </style>\n",
              "\n",
              "      <script>\n",
              "        const buttonEl =\n",
              "          document.querySelector('#df-e5bfbfde-9e14-425a-91c1-461c3fc16d66 button.colab-df-convert');\n",
              "        buttonEl.style.display =\n",
              "          google.colab.kernel.accessAllowed ? 'block' : 'none';\n",
              "\n",
              "        async function convertToInteractive(key) {\n",
              "          const element = document.querySelector('#df-e5bfbfde-9e14-425a-91c1-461c3fc16d66');\n",
              "          const dataTable =\n",
              "            await google.colab.kernel.invokeFunction('convertToInteractive',\n",
              "                                                     [key], {});\n",
              "          if (!dataTable) return;\n",
              "\n",
              "          const docLinkHtml = 'Like what you see? Visit the ' +\n",
              "            '<a target=\"_blank\" href=https://colab.research.google.com/notebooks/data_table.ipynb>data table notebook</a>'\n",
              "            + ' to learn more about interactive tables.';\n",
              "          element.innerHTML = '';\n",
              "          dataTable['output_type'] = 'display_data';\n",
              "          await google.colab.output.renderOutput(dataTable, element);\n",
              "          const docLink = document.createElement('div');\n",
              "          docLink.innerHTML = docLinkHtml;\n",
              "          element.appendChild(docLink);\n",
              "        }\n",
              "      </script>\n",
              "    </div>\n",
              "  </div>\n",
              "  "
            ]
          },
          "metadata": {},
          "execution_count": 3
        }
      ]
    },
    {
      "cell_type": "code",
      "source": [
        "df.shape,df['user-id'].nunique(),df['movie-id'].nunique()"
      ],
      "metadata": {
        "colab": {
          "base_uri": "https://localhost:8080/"
        },
        "id": "V0P7_oo3_xBR",
        "outputId": "4a703ad0-757e-4848-9cea-a226d060e12b"
      },
      "execution_count": 4,
      "outputs": [
        {
          "output_type": "execute_result",
          "data": {
            "text/plain": [
              "((100000, 4), 943, 1682)"
            ]
          },
          "metadata": {},
          "execution_count": 4
        }
      ]
    },
    {
      "cell_type": "markdown",
      "source": [
        "#####1. Adjacent Matrix 생성\n",
        "- 행 :  사용자 id\n",
        "- 열 : 영화 id\n",
        "- 내용 : 평점"
      ],
      "metadata": {
        "id": "S72DQoY-AvHa"
      }
    },
    {
      "cell_type": "code",
      "source": [
        "raw_data =np.array(data.raw_ratings,dtype =int)\n",
        "np.min(raw_data,axis=0)     # 각 컬럼 최소값 보여줌 "
      ],
      "metadata": {
        "colab": {
          "base_uri": "https://localhost:8080/"
        },
        "id": "ItOxAfIrAPUJ",
        "outputId": "0e88e520-faf5-45eb-aa97-c47b8db19b8a"
      },
      "execution_count": 5,
      "outputs": [
        {
          "output_type": "execute_result",
          "data": {
            "text/plain": [
              "array([        1,         1,         1, 874724710])"
            ]
          },
          "metadata": {},
          "execution_count": 5
        }
      ]
    },
    {
      "cell_type": "code",
      "source": [
        "# user -id movie-id가 0부터 시작도록 만들어줌\n",
        "raw_data[:,:2]-=1      #정수로 바꿔줌\n",
        "raw_data[:5]"
      ],
      "metadata": {
        "colab": {
          "base_uri": "https://localhost:8080/"
        },
        "id": "SNLAtqaZBYd6",
        "outputId": "124ed116-4a19-4ab1-d402-5065b009b739"
      },
      "execution_count": 6,
      "outputs": [
        {
          "output_type": "execute_result",
          "data": {
            "text/plain": [
              "array([[      195,       241,         3, 881250949],\n",
              "       [      185,       301,         3, 891717742],\n",
              "       [       21,       376,         1, 878887116],\n",
              "       [      243,        50,         2, 880606923],\n",
              "       [      165,       345,         1, 886397596]])"
            ]
          },
          "metadata": {},
          "execution_count": 6
        }
      ]
    },
    {
      "cell_type": "markdown",
      "source": [
        "#### 1) 본 영화/안본 영화로만 구분. 1/0 "
      ],
      "metadata": {
        "id": "xIIRRcy_CPT-"
      }
    },
    {
      "cell_type": "code",
      "source": [
        "nrows = df['user-id'].nunique()\n",
        "ncols=df['movie-id'].nunique()\n",
        "adj_matrix =np.zeros([nrows,ncols],dtype =int)\n",
        "for user_id,movie_id,_,_ in raw_data:\n",
        "  adj_matrix[user_id,movie_id] = 1\n",
        "adj_matrix[:5]"
      ],
      "metadata": {
        "colab": {
          "base_uri": "https://localhost:8080/"
        },
        "id": "Jz8YldH3B8h4",
        "outputId": "50826489-3b1a-468b-e46d-2daf731d3ccd"
      },
      "execution_count": 7,
      "outputs": [
        {
          "output_type": "execute_result",
          "data": {
            "text/plain": [
              "array([[1, 1, 1, ..., 0, 0, 0],\n",
              "       [1, 0, 0, ..., 0, 0, 0],\n",
              "       [0, 0, 0, ..., 0, 0, 0],\n",
              "       [0, 0, 0, ..., 0, 0, 0],\n",
              "       [1, 1, 0, ..., 0, 0, 0]])"
            ]
          },
          "metadata": {},
          "execution_count": 7
        }
      ]
    },
    {
      "cell_type": "code",
      "source": [
        "# 0번 데이터를 '나'라고 가정\n",
        "my_id, my_vector =0 ,adj_matrix[0]"
      ],
      "metadata": {
        "id": "J1RrniHjDNAi"
      },
      "execution_count": 8,
      "outputs": []
    },
    {
      "cell_type": "code",
      "source": [
        "# 유사도  - 이진 백터의 내적\n",
        "# 나와 10,20번 사용자와의 유사도\n",
        "np.dot(my_vector,adj_matrix[10]),np.dot(my_vector,adj_matrix[20])\n"
      ],
      "metadata": {
        "colab": {
          "base_uri": "https://localhost:8080/"
        },
        "id": "Se28h2euEGEg",
        "outputId": "66be4d5b-40f8-4511-dc0e-b4c6d22a090e"
      },
      "execution_count": 9,
      "outputs": [
        {
          "output_type": "execute_result",
          "data": {
            "text/plain": [
              "(71, 42)"
            ]
          },
          "metadata": {},
          "execution_count": 9
        }
      ]
    },
    {
      "cell_type": "code",
      "source": [
        "# 누가 나랑 가장 닮았나?\n",
        "best_score,best_match_id =0,0\n",
        "\n",
        "# 최대값 찾는 방법\n",
        "for i in range(1,len(adj_matrix)):\n",
        "  dot=np.dot(my_vector,adj_matrix[i])\n",
        "  if dot > best_score:\n",
        "    best_score,best_match_id =dot ,i\n",
        "best_score,best_match_id "
      ],
      "metadata": {
        "colab": {
          "base_uri": "https://localhost:8080/"
        },
        "id": "YsupDglSFKsJ",
        "outputId": "38a81472-61e1-4b75-eb05-1683d4e0d435"
      },
      "execution_count": 10,
      "outputs": [
        {
          "output_type": "execute_result",
          "data": {
            "text/plain": [
              "(183, 275)"
            ]
          },
          "metadata": {},
          "execution_count": 10
        }
      ]
    },
    {
      "cell_type": "code",
      "source": [
        "# 내가 본 영화 갯수, 가장 닮은 사람이 본 영화 갯수\n",
        "my_vector.sum(),adj_matrix[best_match_id].sum()      # 나는 272개 보고 나랑 닮은 사람은 518번 봄"
      ],
      "metadata": {
        "colab": {
          "base_uri": "https://localhost:8080/"
        },
        "id": "_ONdZrlYISY4",
        "outputId": "c004b319-8296-464e-cf56-0de0f61313e1"
      },
      "execution_count": 11,
      "outputs": [
        {
          "output_type": "execute_result",
          "data": {
            "text/plain": [
              "(272, 518)"
            ]
          },
          "metadata": {},
          "execution_count": 11
        }
      ]
    },
    {
      "cell_type": "code",
      "source": [
        "# 내가 보지 않은 영화중에서 가장 닮은 사람이 본 영화 --> 추천\n",
        "recommend_list =[]\n",
        "best_vector =adj_matrix[best_match_id]\n",
        "for i in range(len(my_vector)):\n",
        "  if my_vector[i] == 0 and best_vector[i] == 1:\n",
        "    recommend_list.append(i)\n",
        "  \n",
        "len(recommend_list),recommend_list[:10]"
      ],
      "metadata": {
        "colab": {
          "base_uri": "https://localhost:8080/"
        },
        "id": "G1dbUOz2I5tI",
        "outputId": "44894d04-b1b5-4e23-bd54-b22d8bb31725"
      },
      "execution_count": 12,
      "outputs": [
        {
          "output_type": "execute_result",
          "data": {
            "text/plain": [
              "(335, [272, 273, 275, 280, 281, 283, 287, 288, 289, 290])"
            ]
          },
          "metadata": {},
          "execution_count": 12
        }
      ]
    },
    {
      "cell_type": "markdown",
      "source": [
        "#### 2) 평점 점수를 주는 경우"
      ],
      "metadata": {
        "id": "fcMXhN9TKNsW"
      }
    },
    {
      "cell_type": "code",
      "source": [
        "adj_matrix =np.zeros([nrows,ncols],dtype=int)\n",
        "for user_id,movie_id,rating,_ in raw_data:\n",
        "  adj_matrix[user_id,movie_id] = rating\n",
        "adj_matrix[:5]\n",
        "# 평점으로 추천"
      ],
      "metadata": {
        "colab": {
          "base_uri": "https://localhost:8080/"
        },
        "id": "JJgk2gMRJ2EH",
        "outputId": "a6f101be-3a44-4411-9d5c-23a60f688fd2"
      },
      "execution_count": 13,
      "outputs": [
        {
          "output_type": "execute_result",
          "data": {
            "text/plain": [
              "array([[5, 3, 4, ..., 0, 0, 0],\n",
              "       [4, 0, 0, ..., 0, 0, 0],\n",
              "       [0, 0, 0, ..., 0, 0, 0],\n",
              "       [0, 0, 0, ..., 0, 0, 0],\n",
              "       [4, 3, 0, ..., 0, 0, 0]])"
            ]
          },
          "metadata": {},
          "execution_count": 13
        }
      ]
    },
    {
      "cell_type": "markdown",
      "source": [
        "- Case 1) 유클리드 거리"
      ],
      "metadata": {
        "id": "vpgRiNnALnMO"
      }
    },
    {
      "cell_type": "code",
      "source": [
        "#누가 가장 나와 닮았나? 최소값이 작은사람 \n",
        "best_score,best_match_id =1000000000,0\n",
        "my_vector =adj_matrix[0]\n",
        "\n",
        "for i in range(1,len(adj_matrix)):\n",
        "  euc =np.sqrt(np.sum(np.square(my_vector - adj_matrix[i])))\n",
        "  if euc < best_score:\n",
        "    best_score,best_match_id =euc ,i\n",
        "best_score,best_match_id \n",
        "# 737번 아이디가 나랑 닮음"
      ],
      "metadata": {
        "colab": {
          "base_uri": "https://localhost:8080/"
        },
        "id": "c0gMy4P6KtQI",
        "outputId": "b8f54e53-31e4-45e1-a807-715f2ec6f567"
      },
      "execution_count": 14,
      "outputs": [
        {
          "output_type": "execute_result",
          "data": {
            "text/plain": [
              "(55.06359959174482, 737)"
            ]
          },
          "metadata": {},
          "execution_count": 14
        }
      ]
    },
    {
      "cell_type": "code",
      "source": [
        "# 내가 보지 않은 영화중에서 가장 닮은 사람이 본 영화 --> 추천\n",
        "recommend_list =[]\n",
        "best_vector =adj_matrix[best_match_id]\n",
        "for i in range(len(my_vector)):\n",
        "  if my_vector[i] == 0 and best_vector[i] >= 4: #내가 안본 영화를 닮은사람이 보고 평점을 4이하를 줬으면 추천안받고 싶음\n",
        "    recommend_list.append(i)\n",
        "len(recommend_list),recommend_list[:10]\n",
        "# 21건이 나옴"
      ],
      "metadata": {
        "colab": {
          "base_uri": "https://localhost:8080/"
        },
        "id": "7K6-z-WoMKyQ",
        "outputId": "d64e1e5e-2c6d-44a9-b2ec-91ec5192c27e"
      },
      "execution_count": 15,
      "outputs": [
        {
          "output_type": "execute_result",
          "data": {
            "text/plain": [
              "(21, [312, 317, 356, 384, 407, 422, 433, 454, 469, 473])"
            ]
          },
          "metadata": {},
          "execution_count": 15
        }
      ]
    },
    {
      "cell_type": "markdown",
      "source": [
        "- Case 2) 코사인 유사도"
      ],
      "metadata": {
        "id": "mdJQfeX_N0Ap"
      }
    },
    {
      "cell_type": "code",
      "source": [
        "def cos_similarity(v1,v2):\n",
        "  v1_norm =np.sqrt(np.sum(np.square(v1)))\n",
        "  v2_norm =np.sqrt(np.sum(np.square(v2)))\n",
        "  return np.dot(v1,v2) / (v1_norm * v2_norm)"
      ],
      "metadata": {
        "id": "SlGxgfvpNHJO"
      },
      "execution_count": 16,
      "outputs": []
    },
    {
      "cell_type": "code",
      "source": [
        "# 누가 가장 '나'와 닮았나? - Cosine similarity 최대값\n",
        "best_score, best_match_id = -1, 0\n",
        "\n",
        "for i in range(1, len(adj_matrix)):\n",
        "  sim = cos_similarity(my_vector, adj_matrix[i])\n",
        "  if sim > best_score:\n",
        "    best_score, best_match_id = sim, i\n",
        "  \n",
        "best_score, best_match_id"
      ],
      "metadata": {
        "colab": {
          "base_uri": "https://localhost:8080/"
        },
        "id": "3KWcLIzWOR8l",
        "outputId": "2ad18c0a-8256-4ab4-e2df-21e0f912eab7"
      },
      "execution_count": 19,
      "outputs": [
        {
          "output_type": "execute_result",
          "data": {
            "text/plain": [
              "(0.569065731527988, 915)"
            ]
          },
          "metadata": {},
          "execution_count": 19
        }
      ]
    },
    {
      "cell_type": "code",
      "source": [
        "# 내가 보지 않은 영화중에서 가장 닮은 사람이 본 영화중 평점이 4이상인 영화 --> 추천\n",
        "recommend_list = []\n",
        "best_vecotr = adj_matrix[best_match_id]\n",
        "for i in range(len(my_vector)):\n",
        "  if my_vector[i] == 0 and best_vecotr[i] >= 4:\n",
        "    recommend_list.append(i)\n",
        "\n",
        "len(recommend_list), recommend_list[:10] "
      ],
      "metadata": {
        "colab": {
          "base_uri": "https://localhost:8080/"
        },
        "id": "HBEM-djmOumu",
        "outputId": "d5e9a18a-c47b-4d12-de53-e88205d33f4c"
      },
      "execution_count": 20,
      "outputs": [
        {
          "output_type": "execute_result",
          "data": {
            "text/plain": [
              "(58, [275, 285, 316, 317, 381, 386, 420, 424, 426, 427])"
            ]
          },
          "metadata": {},
          "execution_count": 20
        }
      ]
    },
    {
      "cell_type": "code",
      "source": [],
      "metadata": {
        "id": "P5NytNVpPPvU"
      },
      "execution_count": 18,
      "outputs": []
    }
  ]
}
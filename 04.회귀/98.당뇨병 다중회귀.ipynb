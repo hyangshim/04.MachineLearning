{
 "cells": [
  {
   "cell_type": "code",
   "execution_count": 112,
   "metadata": {},
   "outputs": [],
   "source": [
    "import numpy as np\n",
    "import pandas as pd\n",
    "import seaborn as sns\n",
    "import matplotlib.pyplot as plt"
   ]
  },
  {
   "cell_type": "code",
   "execution_count": 113,
   "metadata": {},
   "outputs": [],
   "source": [
    "from sklearn.svm import SVR\n",
    "from sklearn.metrics import r2_score,mean_squared_error"
   ]
  },
  {
   "cell_type": "code",
   "execution_count": 114,
   "metadata": {},
   "outputs": [
    {
     "data": {
      "text/html": [
       "<div>\n",
       "<style scoped>\n",
       "    .dataframe tbody tr th:only-of-type {\n",
       "        vertical-align: middle;\n",
       "    }\n",
       "\n",
       "    .dataframe tbody tr th {\n",
       "        vertical-align: top;\n",
       "    }\n",
       "\n",
       "    .dataframe thead th {\n",
       "        text-align: right;\n",
       "    }\n",
       "</style>\n",
       "<table border=\"1\" class=\"dataframe\">\n",
       "  <thead>\n",
       "    <tr style=\"text-align: right;\">\n",
       "      <th></th>\n",
       "      <th>age</th>\n",
       "      <th>sex</th>\n",
       "      <th>bmi</th>\n",
       "      <th>bp</th>\n",
       "      <th>s1</th>\n",
       "      <th>s2</th>\n",
       "      <th>s3</th>\n",
       "      <th>s4</th>\n",
       "      <th>s5</th>\n",
       "      <th>s6</th>\n",
       "      <th>target</th>\n",
       "    </tr>\n",
       "  </thead>\n",
       "  <tbody>\n",
       "    <tr>\n",
       "      <th>0</th>\n",
       "      <td>0.038076</td>\n",
       "      <td>0.050680</td>\n",
       "      <td>0.061696</td>\n",
       "      <td>0.021872</td>\n",
       "      <td>-0.044223</td>\n",
       "      <td>-0.034821</td>\n",
       "      <td>-0.043401</td>\n",
       "      <td>-0.002592</td>\n",
       "      <td>0.019907</td>\n",
       "      <td>-0.017646</td>\n",
       "      <td>151.0</td>\n",
       "    </tr>\n",
       "    <tr>\n",
       "      <th>1</th>\n",
       "      <td>-0.001882</td>\n",
       "      <td>-0.044642</td>\n",
       "      <td>-0.051474</td>\n",
       "      <td>-0.026328</td>\n",
       "      <td>-0.008449</td>\n",
       "      <td>-0.019163</td>\n",
       "      <td>0.074412</td>\n",
       "      <td>-0.039493</td>\n",
       "      <td>-0.068332</td>\n",
       "      <td>-0.092204</td>\n",
       "      <td>75.0</td>\n",
       "    </tr>\n",
       "    <tr>\n",
       "      <th>2</th>\n",
       "      <td>0.085299</td>\n",
       "      <td>0.050680</td>\n",
       "      <td>0.044451</td>\n",
       "      <td>-0.005670</td>\n",
       "      <td>-0.045599</td>\n",
       "      <td>-0.034194</td>\n",
       "      <td>-0.032356</td>\n",
       "      <td>-0.002592</td>\n",
       "      <td>0.002861</td>\n",
       "      <td>-0.025930</td>\n",
       "      <td>141.0</td>\n",
       "    </tr>\n",
       "    <tr>\n",
       "      <th>3</th>\n",
       "      <td>-0.089063</td>\n",
       "      <td>-0.044642</td>\n",
       "      <td>-0.011595</td>\n",
       "      <td>-0.036656</td>\n",
       "      <td>0.012191</td>\n",
       "      <td>0.024991</td>\n",
       "      <td>-0.036038</td>\n",
       "      <td>0.034309</td>\n",
       "      <td>0.022688</td>\n",
       "      <td>-0.009362</td>\n",
       "      <td>206.0</td>\n",
       "    </tr>\n",
       "    <tr>\n",
       "      <th>4</th>\n",
       "      <td>0.005383</td>\n",
       "      <td>-0.044642</td>\n",
       "      <td>-0.036385</td>\n",
       "      <td>0.021872</td>\n",
       "      <td>0.003935</td>\n",
       "      <td>0.015596</td>\n",
       "      <td>0.008142</td>\n",
       "      <td>-0.002592</td>\n",
       "      <td>-0.031988</td>\n",
       "      <td>-0.046641</td>\n",
       "      <td>135.0</td>\n",
       "    </tr>\n",
       "  </tbody>\n",
       "</table>\n",
       "</div>"
      ],
      "text/plain": [
       "        age       sex       bmi        bp        s1        s2        s3   \n",
       "0  0.038076  0.050680  0.061696  0.021872 -0.044223 -0.034821 -0.043401  \\\n",
       "1 -0.001882 -0.044642 -0.051474 -0.026328 -0.008449 -0.019163  0.074412   \n",
       "2  0.085299  0.050680  0.044451 -0.005670 -0.045599 -0.034194 -0.032356   \n",
       "3 -0.089063 -0.044642 -0.011595 -0.036656  0.012191  0.024991 -0.036038   \n",
       "4  0.005383 -0.044642 -0.036385  0.021872  0.003935  0.015596  0.008142   \n",
       "\n",
       "         s4        s5        s6  target  \n",
       "0 -0.002592  0.019907 -0.017646   151.0  \n",
       "1 -0.039493 -0.068332 -0.092204    75.0  \n",
       "2 -0.002592  0.002861 -0.025930   141.0  \n",
       "3  0.034309  0.022688 -0.009362   206.0  \n",
       "4 -0.002592 -0.031988 -0.046641   135.0  "
      ]
     },
     "execution_count": 114,
     "metadata": {},
     "output_type": "execute_result"
    }
   ],
   "source": [
    "from sklearn.datasets import load_diabetes\n",
    "diabetes =load_diabetes()\n",
    "df= pd.DataFrame(diabetes.data,columns=diabetes.feature_names)\n",
    "df['target']=diabetes.target\n",
    "df.head()"
   ]
  },
  {
   "attachments": {},
   "cell_type": "markdown",
   "metadata": {},
   "source": [
    "#### 다중 선형회귀"
   ]
  },
  {
   "cell_type": "code",
   "execution_count": 115,
   "metadata": {},
   "outputs": [],
   "source": [
    "X = df.iloc[:, :-1].values\n",
    "y = df.target.values"
   ]
  },
  {
   "cell_type": "code",
   "execution_count": 116,
   "metadata": {},
   "outputs": [],
   "source": [
    "from sklearn.model_selection  import train_test_split\n",
    "from sklearn.linear_model import LinearRegression\n",
    "X_train,X_test,y_train,y_test =train_test_split(\n",
    "   X,y,test_size=0.2,random_state=2023\n",
    ")"
   ]
  },
  {
   "cell_type": "code",
   "execution_count": 117,
   "metadata": {},
   "outputs": [],
   "source": [
    "lr =LinearRegression()\n",
    "lr.fit(X_train,y_train)\n",
    "lr.score(X_test,y_test)\n",
    "pred_lr =lr.predict(X_test)\n",
    "r2_lr =r2_score(y_test,pred_lr)\n",
    "mse_lr =mean_squared_error(y_test,pred_lr)"
   ]
  },
  {
   "cell_type": "code",
   "execution_count": 118,
   "metadata": {},
   "outputs": [],
   "source": [
    "svr =SVR()\n",
    "svr.fit(X_train,y_train)\n",
    "pred_sv =svr.predict(X_test)\n",
    "r2_sv = r2_score(y_test,pred_sv)\n",
    "mse_sv =mean_squared_error(y_test,pred_sv)"
   ]
  },
  {
   "cell_type": "code",
   "execution_count": 119,
   "metadata": {},
   "outputs": [],
   "source": [
    "from sklearn.ensemble import RandomForestRegressor\n",
    "rfr = RandomForestRegressor(random_state=2023)\n",
    "rfr.fit(X_train, y_train)\n",
    "pred_rf = rfr.predict(X_test)\n",
    "r2_rf = r2_score(y_test, pred_rf)\n",
    "mse_rf = mean_squared_error(y_test, pred_rf)"
   ]
  },
  {
   "cell_type": "code",
   "execution_count": 120,
   "metadata": {},
   "outputs": [],
   "source": [
    "from xgboost import XGBRegressor\n",
    "xgr =XGBRegressor()\n",
    "xgr.fit(X_train,y_train)\n",
    "pred_xg =xgr.predict(X_test)\n",
    "r2_xg = r2_score(y_test,pred_xg)\n",
    "mse_xg =mean_squared_error(y_test,pred_xg)"
   ]
  },
  {
   "cell_type": "code",
   "execution_count": 121,
   "metadata": {},
   "outputs": [
    {
     "name": "stdout",
     "output_type": "stream",
     "text": [
      "\t\tLR\tSV\tRF\tXG\n",
      "R squared\t0.5011\t0.1703\t0.4054\t0.3062\n",
      "Mean squared E\t3490.2509\t5804.7247\t4159.7421\t4853.7496\n"
     ]
    }
   ],
   "source": [
    "print('\\t\\tLR\\tSV\\tRF\\tXG')\n",
    "print(f'R squared\\t{r2_lr:.4f}\\t{r2_sv:.4f}\\t{r2_rf:.4f}\\t{r2_xg:.4f}')\n",
    "print(f'Mean squared E\\t{mse_lr:.4f}\\t{mse_sv:.4f}\\t{mse_rf:.4f}\\t{mse_xg:.4f}')"
   ]
  },
  {
   "cell_type": "code",
   "execution_count": 122,
   "metadata": {},
   "outputs": [
    {
     "data": {
      "text/html": [
       "<div>\n",
       "<style scoped>\n",
       "    .dataframe tbody tr th:only-of-type {\n",
       "        vertical-align: middle;\n",
       "    }\n",
       "\n",
       "    .dataframe tbody tr th {\n",
       "        vertical-align: top;\n",
       "    }\n",
       "\n",
       "    .dataframe thead th {\n",
       "        text-align: right;\n",
       "    }\n",
       "</style>\n",
       "<table border=\"1\" class=\"dataframe\">\n",
       "  <thead>\n",
       "    <tr style=\"text-align: right;\">\n",
       "      <th></th>\n",
       "      <th>y</th>\n",
       "      <th>LR</th>\n",
       "      <th>SV</th>\n",
       "      <th>RF</th>\n",
       "      <th>XG</th>\n",
       "    </tr>\n",
       "  </thead>\n",
       "  <tbody>\n",
       "    <tr>\n",
       "      <th>0</th>\n",
       "      <td>265.0</td>\n",
       "      <td>164.553734</td>\n",
       "      <td>143.763042</td>\n",
       "      <td>193.64</td>\n",
       "      <td>189.963928</td>\n",
       "    </tr>\n",
       "    <tr>\n",
       "      <th>1</th>\n",
       "      <td>261.0</td>\n",
       "      <td>230.858516</td>\n",
       "      <td>155.672919</td>\n",
       "      <td>263.64</td>\n",
       "      <td>291.990021</td>\n",
       "    </tr>\n",
       "    <tr>\n",
       "      <th>2</th>\n",
       "      <td>160.0</td>\n",
       "      <td>113.389079</td>\n",
       "      <td>127.947072</td>\n",
       "      <td>81.45</td>\n",
       "      <td>58.978519</td>\n",
       "    </tr>\n",
       "    <tr>\n",
       "      <th>3</th>\n",
       "      <td>249.0</td>\n",
       "      <td>204.741168</td>\n",
       "      <td>154.991682</td>\n",
       "      <td>151.02</td>\n",
       "      <td>131.112106</td>\n",
       "    </tr>\n",
       "    <tr>\n",
       "      <th>4</th>\n",
       "      <td>102.0</td>\n",
       "      <td>105.520336</td>\n",
       "      <td>130.356541</td>\n",
       "      <td>97.71</td>\n",
       "      <td>74.594643</td>\n",
       "    </tr>\n",
       "  </tbody>\n",
       "</table>\n",
       "</div>"
      ],
      "text/plain": [
       "       y          LR          SV      RF          XG\n",
       "0  265.0  164.553734  143.763042  193.64  189.963928\n",
       "1  261.0  230.858516  155.672919  263.64  291.990021\n",
       "2  160.0  113.389079  127.947072   81.45   58.978519\n",
       "3  249.0  204.741168  154.991682  151.02  131.112106\n",
       "4  102.0  105.520336  130.356541   97.71   74.594643"
      ]
     },
     "execution_count": 122,
     "metadata": {},
     "output_type": "execute_result"
    }
   ],
   "source": [
    "df = pd.DataFrame({\n",
    "    'y':y_test,'LR':pred_lr,'SV':pred_sv,'RF':pred_rf,'XG':pred_xg\n",
    "})\n",
    "df.head()"
   ]
  },
  {
   "attachments": {},
   "cell_type": "markdown",
   "metadata": {},
   "source": [
    "- 규제 선형회귀\n",
    "- Ridge - l2 규제"
   ]
  },
  {
   "cell_type": "code",
   "execution_count": 123,
   "metadata": {},
   "outputs": [
    {
     "data": {
      "text/plain": [
       "(0.4287339832377136, 3996.7981745424554)"
      ]
     },
     "execution_count": 123,
     "metadata": {},
     "output_type": "execute_result"
    }
   ],
   "source": [
    "from sklearn.linear_model import Ridge\n",
    "ridge =Ridge()\n",
    "ridge.fit(X_train,y_train)\n",
    "pred_rg = ridge.predict(X_test)\n",
    "r2_rg =r2_score(y_test,pred_rg)\n",
    "mse_rg =mean_squared_error(y_test,pred_rg)\n",
    "r2_rg,mse_rg \n",
    "# r2_rg결정 계수\n",
    "# mse_rg 평균 제곱 오차"
   ]
  },
  {
   "cell_type": "code",
   "execution_count": 124,
   "metadata": {},
   "outputs": [
    {
     "data": {
      "text/plain": [
       "(0.3132002038489573, 4805.117215076456)"
      ]
     },
     "execution_count": 124,
     "metadata": {},
     "output_type": "execute_result"
    }
   ],
   "source": [
    "from sklearn.linear_model import Lasso\n",
    "lasso =Lasso(random_state=2023)\n",
    "lasso.fit(X_train,y_train)\n",
    "pred_ls =lasso.predict(X_test)\n",
    "r2_ls =r2_score(y_test,pred_ls)\n",
    "mse_ls = mean_squared_error(y_test,pred_ls)\n",
    "r2_ls,mse_ls"
   ]
  },
  {
   "cell_type": "code",
   "execution_count": 125,
   "metadata": {},
   "outputs": [
    {
     "name": "stdout",
     "output_type": "stream",
     "text": [
      "\t\tLR\tSV\tRF\tXG\tRidge\tLasso\n",
      "R squared\t0.5011\t0.1703\t0.4054\t0.3062\t0.4287\t0.3132\n",
      "Mean squared E\t3490.2509\t5804.7247\t4159.7421\t4853.7496\t3996.7982\t4805.1172\n"
     ]
    }
   ],
   "source": [
    "print('\\t\\tLR\\tSV\\tRF\\tXG\\tRidge\\tLasso')\n",
    "print(f'R squared\\t{r2_lr:.4f}\\t{r2_sv:.4f}\\t{r2_rf:.4f}\\t{r2_xg:.4f}\\t{r2_rg:.4f}\\t{r2_ls:.4f}')\n",
    "print(f'Mean squared E\\t{mse_lr:.4f}\\t{mse_sv:.4f}\\t{mse_rf:.4f}\\t{mse_xg:.4f}\\t{mse_rg:.4f}\\t{mse_ls:.4f}')"
   ]
  },
  {
   "cell_type": "code",
   "execution_count": 126,
   "metadata": {},
   "outputs": [
    {
     "data": {
      "text/html": [
       "<div>\n",
       "<style scoped>\n",
       "    .dataframe tbody tr th:only-of-type {\n",
       "        vertical-align: middle;\n",
       "    }\n",
       "\n",
       "    .dataframe tbody tr th {\n",
       "        vertical-align: top;\n",
       "    }\n",
       "\n",
       "    .dataframe thead th {\n",
       "        text-align: right;\n",
       "    }\n",
       "</style>\n",
       "<table border=\"1\" class=\"dataframe\">\n",
       "  <thead>\n",
       "    <tr style=\"text-align: right;\">\n",
       "      <th></th>\n",
       "      <th>y</th>\n",
       "      <th>LR</th>\n",
       "      <th>SV</th>\n",
       "      <th>RF</th>\n",
       "      <th>XG</th>\n",
       "      <th>Ridge</th>\n",
       "      <th>Lasso</th>\n",
       "    </tr>\n",
       "  </thead>\n",
       "  <tbody>\n",
       "    <tr>\n",
       "      <th>0</th>\n",
       "      <td>265.0</td>\n",
       "      <td>164.553734</td>\n",
       "      <td>143.763042</td>\n",
       "      <td>193.64</td>\n",
       "      <td>189.963928</td>\n",
       "      <td>160.002767</td>\n",
       "      <td>163.808030</td>\n",
       "    </tr>\n",
       "    <tr>\n",
       "      <th>1</th>\n",
       "      <td>261.0</td>\n",
       "      <td>230.858516</td>\n",
       "      <td>155.672919</td>\n",
       "      <td>263.64</td>\n",
       "      <td>291.990021</td>\n",
       "      <td>199.355943</td>\n",
       "      <td>185.863613</td>\n",
       "    </tr>\n",
       "    <tr>\n",
       "      <th>2</th>\n",
       "      <td>160.0</td>\n",
       "      <td>113.389079</td>\n",
       "      <td>127.947072</td>\n",
       "      <td>81.45</td>\n",
       "      <td>58.978519</td>\n",
       "      <td>133.198975</td>\n",
       "      <td>137.521623</td>\n",
       "    </tr>\n",
       "    <tr>\n",
       "      <th>3</th>\n",
       "      <td>249.0</td>\n",
       "      <td>204.741168</td>\n",
       "      <td>154.991682</td>\n",
       "      <td>151.02</td>\n",
       "      <td>131.112106</td>\n",
       "      <td>192.171298</td>\n",
       "      <td>172.979468</td>\n",
       "    </tr>\n",
       "    <tr>\n",
       "      <th>4</th>\n",
       "      <td>102.0</td>\n",
       "      <td>105.520336</td>\n",
       "      <td>130.356541</td>\n",
       "      <td>97.71</td>\n",
       "      <td>74.594643</td>\n",
       "      <td>130.853284</td>\n",
       "      <td>126.882774</td>\n",
       "    </tr>\n",
       "    <tr>\n",
       "      <th>...</th>\n",
       "      <td>...</td>\n",
       "      <td>...</td>\n",
       "      <td>...</td>\n",
       "      <td>...</td>\n",
       "      <td>...</td>\n",
       "      <td>...</td>\n",
       "      <td>...</td>\n",
       "    </tr>\n",
       "    <tr>\n",
       "      <th>84</th>\n",
       "      <td>143.0</td>\n",
       "      <td>171.604988</td>\n",
       "      <td>145.073347</td>\n",
       "      <td>179.10</td>\n",
       "      <td>165.103058</td>\n",
       "      <td>163.756299</td>\n",
       "      <td>163.954723</td>\n",
       "    </tr>\n",
       "    <tr>\n",
       "      <th>85</th>\n",
       "      <td>258.0</td>\n",
       "      <td>173.617811</td>\n",
       "      <td>137.874301</td>\n",
       "      <td>170.47</td>\n",
       "      <td>195.641418</td>\n",
       "      <td>150.313060</td>\n",
       "      <td>161.744051</td>\n",
       "    </tr>\n",
       "    <tr>\n",
       "      <th>86</th>\n",
       "      <td>199.0</td>\n",
       "      <td>107.913507</td>\n",
       "      <td>132.585325</td>\n",
       "      <td>107.25</td>\n",
       "      <td>98.236061</td>\n",
       "      <td>132.358882</td>\n",
       "      <td>131.177829</td>\n",
       "    </tr>\n",
       "    <tr>\n",
       "      <th>87</th>\n",
       "      <td>182.0</td>\n",
       "      <td>118.190436</td>\n",
       "      <td>128.137722</td>\n",
       "      <td>88.28</td>\n",
       "      <td>68.233879</td>\n",
       "      <td>129.944404</td>\n",
       "      <td>129.297907</td>\n",
       "    </tr>\n",
       "    <tr>\n",
       "      <th>88</th>\n",
       "      <td>63.0</td>\n",
       "      <td>105.233080</td>\n",
       "      <td>123.238597</td>\n",
       "      <td>108.76</td>\n",
       "      <td>99.895576</td>\n",
       "      <td>119.800381</td>\n",
       "      <td>130.068666</td>\n",
       "    </tr>\n",
       "  </tbody>\n",
       "</table>\n",
       "<p>89 rows × 7 columns</p>\n",
       "</div>"
      ],
      "text/plain": [
       "        y          LR          SV      RF          XG       Ridge       Lasso\n",
       "0   265.0  164.553734  143.763042  193.64  189.963928  160.002767  163.808030\n",
       "1   261.0  230.858516  155.672919  263.64  291.990021  199.355943  185.863613\n",
       "2   160.0  113.389079  127.947072   81.45   58.978519  133.198975  137.521623\n",
       "3   249.0  204.741168  154.991682  151.02  131.112106  192.171298  172.979468\n",
       "4   102.0  105.520336  130.356541   97.71   74.594643  130.853284  126.882774\n",
       "..    ...         ...         ...     ...         ...         ...         ...\n",
       "84  143.0  171.604988  145.073347  179.10  165.103058  163.756299  163.954723\n",
       "85  258.0  173.617811  137.874301  170.47  195.641418  150.313060  161.744051\n",
       "86  199.0  107.913507  132.585325  107.25   98.236061  132.358882  131.177829\n",
       "87  182.0  118.190436  128.137722   88.28   68.233879  129.944404  129.297907\n",
       "88   63.0  105.233080  123.238597  108.76   99.895576  119.800381  130.068666\n",
       "\n",
       "[89 rows x 7 columns]"
      ]
     },
     "execution_count": 126,
     "metadata": {},
     "output_type": "execute_result"
    }
   ],
   "source": [
    "df['Ridge'] = pred_rg\n",
    "df['Lasso'] = pred_ls\n",
    "df"
   ]
  },
  {
   "cell_type": "code",
   "execution_count": null,
   "metadata": {},
   "outputs": [],
   "source": []
  }
 ],
 "metadata": {
  "kernelspec": {
   "display_name": "base",
   "language": "python",
   "name": "python3"
  },
  "language_info": {
   "codemirror_mode": {
    "name": "ipython",
    "version": 3
   },
   "file_extension": ".py",
   "mimetype": "text/x-python",
   "name": "python",
   "nbconvert_exporter": "python",
   "pygments_lexer": "ipython3",
   "version": "3.10.10"
  },
  "orig_nbformat": 4
 },
 "nbformat": 4,
 "nbformat_minor": 2
}
